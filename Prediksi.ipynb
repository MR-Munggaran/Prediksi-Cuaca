{
 "cells": [
  {
   "cell_type": "code",
   "execution_count": 18,
   "metadata": {},
   "outputs": [],
   "source": [
    "import pandas as pd\n",
    "import statsmodels.api as sm\n",
    "from sklearn.model_selection import train_test_split\n",
    "from sklearn.linear_model import LinearRegression\n",
    "from sklearn.metrics import mean_squared_error\n",
    "import numpy as np\n"
   ]
  },
  {
   "cell_type": "code",
   "execution_count": 2,
   "metadata": {},
   "outputs": [
    {
     "name": "stdout",
     "output_type": "stream",
     "text": [
      "Tn         0.003650\n",
      "Tx         0.000000\n",
      "Tavg       0.000000\n",
      "RH_avg     0.000000\n",
      "RR         0.003650\n",
      "ss         0.007299\n",
      "ff_x       0.000000\n",
      "ddd_x      0.000000\n",
      "ff_avg     0.000000\n",
      "ddd_car    0.000000\n",
      "dtype: float64\n"
     ]
    }
   ],
   "source": [
    "\n",
    "\n",
    "weather = pd.read_csv('Data_fixed.csv', index_col = \"Tanggal\")\n",
    "\n",
    "output = weather.apply(pd.isnull).sum()/weather.shape[0]\n",
    "\n",
    "core_weather = weather[[\"Tavg\", \"RH_avg\",\"RR\", \"ss\", \"ff_avg\"]].copy()\n",
    "\n",
    "core_weather.columns = [\"Temp_rata-rata\", \"Kelembapan_rata-rata\",\"Curah-hujan\",\"Lamanya-penyinaran-matahari\",\"durasi_hujan\"]\n",
    "\n",
    "\n",
    "\n",
    "print(output)"
   ]
  },
  {
   "cell_type": "code",
   "execution_count": 3,
   "metadata": {},
   "outputs": [],
   "source": [
    "core_weather = core_weather.dropna()  # Untuk menghapus baris yang mengandung nilai-nilai hilang\n",
    "# atau\n",
    "core_weather = core_weather.fillna(core_weather.mean())  # Menggantikan nilai-nilai hilang dengan rata-rata"
   ]
  },
  {
   "cell_type": "code",
   "execution_count": 4,
   "metadata": {},
   "outputs": [
    {
     "data": {
      "text/html": [
       "<div>\n",
       "<style scoped>\n",
       "    .dataframe tbody tr th:only-of-type {\n",
       "        vertical-align: middle;\n",
       "    }\n",
       "\n",
       "    .dataframe tbody tr th {\n",
       "        vertical-align: top;\n",
       "    }\n",
       "\n",
       "    .dataframe thead th {\n",
       "        text-align: right;\n",
       "    }\n",
       "</style>\n",
       "<table border=\"1\" class=\"dataframe\">\n",
       "  <thead>\n",
       "    <tr style=\"text-align: right;\">\n",
       "      <th></th>\n",
       "      <th>Temp_rata-rata</th>\n",
       "      <th>Kelembapan_rata-rata</th>\n",
       "      <th>Curah-hujan</th>\n",
       "      <th>Lamanya-penyinaran-matahari</th>\n",
       "      <th>durasi_hujan</th>\n",
       "      <th>Temp_rata-rata-scaled</th>\n",
       "      <th>Kelembapan_rata-rata-scaled</th>\n",
       "      <th>Curah-hujan-scaled</th>\n",
       "      <th>Lamanya-penyinaran-matahari-scaled</th>\n",
       "      <th>durasi_hujan-scaled</th>\n",
       "    </tr>\n",
       "    <tr>\n",
       "      <th>Tanggal</th>\n",
       "      <th></th>\n",
       "      <th></th>\n",
       "      <th></th>\n",
       "      <th></th>\n",
       "      <th></th>\n",
       "      <th></th>\n",
       "      <th></th>\n",
       "      <th></th>\n",
       "      <th></th>\n",
       "      <th></th>\n",
       "    </tr>\n",
       "  </thead>\n",
       "  <tbody>\n",
       "    <tr>\n",
       "      <th>1/1/2023</th>\n",
       "      <td>26.4</td>\n",
       "      <td>90</td>\n",
       "      <td>55.1</td>\n",
       "      <td>0.0</td>\n",
       "      <td>2</td>\n",
       "      <td>0.360656</td>\n",
       "      <td>0.787879</td>\n",
       "      <td>0.006199</td>\n",
       "      <td>0.000000</td>\n",
       "      <td>0.333333</td>\n",
       "    </tr>\n",
       "    <tr>\n",
       "      <th>2/1/2023</th>\n",
       "      <td>26.4</td>\n",
       "      <td>90</td>\n",
       "      <td>55.1</td>\n",
       "      <td>0.0</td>\n",
       "      <td>2</td>\n",
       "      <td>0.360656</td>\n",
       "      <td>0.787879</td>\n",
       "      <td>0.006199</td>\n",
       "      <td>0.000000</td>\n",
       "      <td>0.333333</td>\n",
       "    </tr>\n",
       "    <tr>\n",
       "      <th>3/1/2023</th>\n",
       "      <td>26.4</td>\n",
       "      <td>90</td>\n",
       "      <td>55.1</td>\n",
       "      <td>0.0</td>\n",
       "      <td>2</td>\n",
       "      <td>0.360656</td>\n",
       "      <td>0.787879</td>\n",
       "      <td>0.006199</td>\n",
       "      <td>0.000000</td>\n",
       "      <td>0.333333</td>\n",
       "    </tr>\n",
       "    <tr>\n",
       "      <th>4/1/2023</th>\n",
       "      <td>26.0</td>\n",
       "      <td>92</td>\n",
       "      <td>4.1</td>\n",
       "      <td>0.0</td>\n",
       "      <td>2</td>\n",
       "      <td>0.295082</td>\n",
       "      <td>0.848485</td>\n",
       "      <td>0.000461</td>\n",
       "      <td>0.000000</td>\n",
       "      <td>0.333333</td>\n",
       "    </tr>\n",
       "    <tr>\n",
       "      <th>5/1/2023</th>\n",
       "      <td>25.6</td>\n",
       "      <td>90</td>\n",
       "      <td>18.6</td>\n",
       "      <td>0.0</td>\n",
       "      <td>3</td>\n",
       "      <td>0.229508</td>\n",
       "      <td>0.787879</td>\n",
       "      <td>0.002093</td>\n",
       "      <td>0.000000</td>\n",
       "      <td>0.666667</td>\n",
       "    </tr>\n",
       "    <tr>\n",
       "      <th>...</th>\n",
       "      <td>...</td>\n",
       "      <td>...</td>\n",
       "      <td>...</td>\n",
       "      <td>...</td>\n",
       "      <td>...</td>\n",
       "      <td>...</td>\n",
       "      <td>...</td>\n",
       "      <td>...</td>\n",
       "      <td>...</td>\n",
       "      <td>...</td>\n",
       "    </tr>\n",
       "    <tr>\n",
       "      <th>27-09-2023</th>\n",
       "      <td>29.4</td>\n",
       "      <td>65</td>\n",
       "      <td>1.5</td>\n",
       "      <td>9.2</td>\n",
       "      <td>3</td>\n",
       "      <td>0.852459</td>\n",
       "      <td>0.030303</td>\n",
       "      <td>0.000169</td>\n",
       "      <td>0.876190</td>\n",
       "      <td>0.666667</td>\n",
       "    </tr>\n",
       "    <tr>\n",
       "      <th>28-09-2023</th>\n",
       "      <td>29.7</td>\n",
       "      <td>65</td>\n",
       "      <td>1.5</td>\n",
       "      <td>10.0</td>\n",
       "      <td>3</td>\n",
       "      <td>0.901639</td>\n",
       "      <td>0.030303</td>\n",
       "      <td>0.000169</td>\n",
       "      <td>0.952381</td>\n",
       "      <td>0.666667</td>\n",
       "    </tr>\n",
       "    <tr>\n",
       "      <th>29-09-2023</th>\n",
       "      <td>30.3</td>\n",
       "      <td>66</td>\n",
       "      <td>1.5</td>\n",
       "      <td>9.9</td>\n",
       "      <td>3</td>\n",
       "      <td>1.000000</td>\n",
       "      <td>0.060606</td>\n",
       "      <td>0.000169</td>\n",
       "      <td>0.942857</td>\n",
       "      <td>0.666667</td>\n",
       "    </tr>\n",
       "    <tr>\n",
       "      <th>30-09-2023</th>\n",
       "      <td>29.0</td>\n",
       "      <td>76</td>\n",
       "      <td>1.5</td>\n",
       "      <td>10.0</td>\n",
       "      <td>2</td>\n",
       "      <td>0.786885</td>\n",
       "      <td>0.363636</td>\n",
       "      <td>0.000169</td>\n",
       "      <td>0.952381</td>\n",
       "      <td>0.333333</td>\n",
       "    </tr>\n",
       "    <tr>\n",
       "      <th>1/10/2023</th>\n",
       "      <td>29.1</td>\n",
       "      <td>76</td>\n",
       "      <td>1.5</td>\n",
       "      <td>9.6</td>\n",
       "      <td>2</td>\n",
       "      <td>0.803279</td>\n",
       "      <td>0.363636</td>\n",
       "      <td>0.000169</td>\n",
       "      <td>0.914286</td>\n",
       "      <td>0.333333</td>\n",
       "    </tr>\n",
       "  </tbody>\n",
       "</table>\n",
       "<p>271 rows × 10 columns</p>\n",
       "</div>"
      ],
      "text/plain": [
       "            Temp_rata-rata  Kelembapan_rata-rata  Curah-hujan  \\\n",
       "Tanggal                                                         \n",
       "1/1/2023              26.4                    90         55.1   \n",
       "2/1/2023              26.4                    90         55.1   \n",
       "3/1/2023              26.4                    90         55.1   \n",
       "4/1/2023              26.0                    92          4.1   \n",
       "5/1/2023              25.6                    90         18.6   \n",
       "...                    ...                   ...          ...   \n",
       "27-09-2023            29.4                    65          1.5   \n",
       "28-09-2023            29.7                    65          1.5   \n",
       "29-09-2023            30.3                    66          1.5   \n",
       "30-09-2023            29.0                    76          1.5   \n",
       "1/10/2023             29.1                    76          1.5   \n",
       "\n",
       "            Lamanya-penyinaran-matahari  durasi_hujan  Temp_rata-rata-scaled  \\\n",
       "Tanggal                                                                        \n",
       "1/1/2023                            0.0             2               0.360656   \n",
       "2/1/2023                            0.0             2               0.360656   \n",
       "3/1/2023                            0.0             2               0.360656   \n",
       "4/1/2023                            0.0             2               0.295082   \n",
       "5/1/2023                            0.0             3               0.229508   \n",
       "...                                 ...           ...                    ...   \n",
       "27-09-2023                          9.2             3               0.852459   \n",
       "28-09-2023                         10.0             3               0.901639   \n",
       "29-09-2023                          9.9             3               1.000000   \n",
       "30-09-2023                         10.0             2               0.786885   \n",
       "1/10/2023                           9.6             2               0.803279   \n",
       "\n",
       "            Kelembapan_rata-rata-scaled  Curah-hujan-scaled  \\\n",
       "Tanggal                                                       \n",
       "1/1/2023                       0.787879            0.006199   \n",
       "2/1/2023                       0.787879            0.006199   \n",
       "3/1/2023                       0.787879            0.006199   \n",
       "4/1/2023                       0.848485            0.000461   \n",
       "5/1/2023                       0.787879            0.002093   \n",
       "...                                 ...                 ...   \n",
       "27-09-2023                     0.030303            0.000169   \n",
       "28-09-2023                     0.030303            0.000169   \n",
       "29-09-2023                     0.060606            0.000169   \n",
       "30-09-2023                     0.363636            0.000169   \n",
       "1/10/2023                      0.363636            0.000169   \n",
       "\n",
       "            Lamanya-penyinaran-matahari-scaled  durasi_hujan-scaled  \n",
       "Tanggal                                                              \n",
       "1/1/2023                              0.000000             0.333333  \n",
       "2/1/2023                              0.000000             0.333333  \n",
       "3/1/2023                              0.000000             0.333333  \n",
       "4/1/2023                              0.000000             0.333333  \n",
       "5/1/2023                              0.000000             0.666667  \n",
       "...                                        ...                  ...  \n",
       "27-09-2023                            0.876190             0.666667  \n",
       "28-09-2023                            0.952381             0.666667  \n",
       "29-09-2023                            0.942857             0.666667  \n",
       "30-09-2023                            0.952381             0.333333  \n",
       "1/10/2023                             0.914286             0.333333  \n",
       "\n",
       "[271 rows x 10 columns]"
      ]
     },
     "execution_count": 4,
     "metadata": {},
     "output_type": "execute_result"
    }
   ],
   "source": [
    "for col in core_weather.columns:\n",
    "    min = core_weather[col].min()\n",
    "    max = core_weather[col].max()\n",
    "    core_weather[col +'-scaled'] = (core_weather[col] - min) / ( max - min )\n",
    "core_weather"
   ]
  },
  {
   "cell_type": "code",
   "execution_count": 5,
   "metadata": {},
   "outputs": [
    {
     "name": "stdout",
     "output_type": "stream",
     "text": [
      "                              OLS Regression Results                             \n",
      "=================================================================================\n",
      "Dep. Variable:     Temp_rata-rata-scaled   R-squared:                       0.493\n",
      "Model:                               OLS   Adj. R-squared:                  0.486\n",
      "Method:                    Least Squares   F-statistic:                     64.73\n",
      "Date:                   Mon, 11 Dec 2023   Prob (F-statistic):           3.63e-38\n",
      "Time:                           10:20:47   Log-Likelihood:                 203.02\n",
      "No. Observations:                    271   AIC:                            -396.0\n",
      "Df Residuals:                        266   BIC:                            -378.0\n",
      "Df Model:                              4                                         \n",
      "Covariance Type:               nonrobust                                         \n",
      "======================================================================================================\n",
      "                                         coef    std err          t      P>|t|      [0.025      0.975]\n",
      "------------------------------------------------------------------------------------------------------\n",
      "const                                  0.6894      0.039     17.759      0.000       0.613       0.766\n",
      "Kelembapan_rata-rata-scaled           -0.4089      0.050     -8.186      0.000      -0.507      -0.311\n",
      "Curah-hujan-scaled                    -0.0603      0.021     -2.911      0.004      -0.101      -0.020\n",
      "Lamanya-penyinaran-matahari-scaled     0.1233      0.036      3.417      0.001       0.052       0.194\n",
      "durasi_hujan-scaled                   -0.0700      0.024     -2.917      0.004      -0.117      -0.023\n",
      "==============================================================================\n",
      "Omnibus:                        8.522   Durbin-Watson:                   0.533\n",
      "Prob(Omnibus):                  0.014   Jarque-Bera (JB):               11.491\n",
      "Skew:                           0.234   Prob(JB):                      0.00320\n",
      "Kurtosis:                       3.894   Cond. No.                         12.2\n",
      "==============================================================================\n",
      "\n",
      "Notes:\n",
      "[1] Standard Errors assume that the covariance matrix of the errors is correctly specified.\n"
     ]
    }
   ],
   "source": [
    "# menguji pengaruh kelembapan rata rata, curah hujan, lamanya penyinaran matahari, kecepatan angin rata rata terhadap suhu\n",
    "\n",
    "x_uji1 = sm.add_constant(core_weather[[\"Kelembapan_rata-rata-scaled\",\"Curah-hujan-scaled\",\"Lamanya-penyinaran-matahari-scaled\",\"durasi_hujan-scaled\"]])\n",
    "y_uji1 = core_weather[\"Temp_rata-rata-scaled\"]\n",
    "\n",
    "model1 = sm.OLS(y_uji1,x_uji1).fit()\n",
    "\n",
    "print (model1.summary())\n",
    "\n",
    "\n"
   ]
  },
  {
   "cell_type": "code",
   "execution_count": null,
   "metadata": {},
   "outputs": [],
   "source": [
    "def membuat_model_prediksi_suhu(a, b, c, d):\n",
    "    \"\"\"\n",
    "    parameter a adalah parameter untuk nilai kelembapan\n",
    "    parameter b adalah parametet untuk nilai curah hujan\n",
    "    parameter c adalah parameter untuk lamanya penyinaran matahari\n",
    "    parameter d adalah parameter untuk durasi hujan\n",
    "    constant adalah nilai  ketika dari seluruh parameter bernilai 0\n",
    "    \"\"\"\n",
    "    coef_kelembapan = -0.4089\n",
    "    coef_curah_hujan = -0.0603\n",
    "    coef_lamanya_penyinaran_matahari = 0.1233\n",
    "    coef_durasi_hujan = -0.0700\n",
    "    constant = 0.6894\n",
    "\n",
    "    return a*coef_kelembapan + b * coef_curah_hujan + c * coef_lamanya_penyinaran_matahari + d * coef_durasi_hujan + constant\n"
   ]
  },
  {
   "cell_type": "code",
   "execution_count": 6,
   "metadata": {},
   "outputs": [
    {
     "name": "stdout",
     "output_type": "stream",
     "text": [
      "                                 OLS Regression Results                                \n",
      "=======================================================================================\n",
      "Dep. Variable:     Kelembapan_rata-rata-scaled   R-squared:                       0.602\n",
      "Model:                                     OLS   Adj. R-squared:                  0.596\n",
      "Method:                          Least Squares   F-statistic:                     100.4\n",
      "Date:                         Mon, 11 Dec 2023   Prob (F-statistic):           5.72e-52\n",
      "Time:                                 10:20:47   Log-Likelihood:                 177.87\n",
      "No. Observations:                          271   AIC:                            -345.7\n",
      "Df Residuals:                              266   BIC:                            -327.7\n",
      "Df Model:                                    4                                         \n",
      "Covariance Type:                     nonrobust                                         \n",
      "======================================================================================================\n",
      "                                         coef    std err          t      P>|t|      [0.025      0.975]\n",
      "------------------------------------------------------------------------------------------------------\n",
      "const                                  0.9066      0.030     30.643      0.000       0.848       0.965\n",
      "Temp_rata-rata-scaled                 -0.4922      0.060     -8.186      0.000      -0.611      -0.374\n",
      "Curah-hujan-scaled                    -0.0429      0.023     -1.871      0.062      -0.088       0.002\n",
      "Lamanya-penyinaran-matahari-scaled    -0.3283      0.035     -9.352      0.000      -0.397      -0.259\n",
      "durasi_hujan-scaled                    0.0120      0.027      0.450      0.653      -0.041       0.065\n",
      "==============================================================================\n",
      "Omnibus:                        5.133   Durbin-Watson:                   0.729\n",
      "Prob(Omnibus):                  0.077   Jarque-Bera (JB):                4.826\n",
      "Skew:                          -0.311   Prob(JB):                       0.0895\n",
      "Kurtosis:                       3.203   Cond. No.                         10.9\n",
      "==============================================================================\n",
      "\n",
      "Notes:\n",
      "[1] Standard Errors assume that the covariance matrix of the errors is correctly specified.\n"
     ]
    }
   ],
   "source": [
    "# menguji pengaruh kelembapan rata rata, curah hujan, lamanya penyinaran matahari, kecepatan angin rata rata terhadap suhu\n",
    "\n",
    "x_uji2 = sm.add_constant(core_weather[[\"Temp_rata-rata-scaled\",\"Curah-hujan-scaled\",\"Lamanya-penyinaran-matahari-scaled\",\"durasi_hujan-scaled\"]])\n",
    "y_uji2 = core_weather[\"Kelembapan_rata-rata-scaled\"]\n",
    "\n",
    "model2 = sm.OLS(y_uji2,x_uji2).fit()\n",
    "\n",
    "print (model2.summary())\n",
    "\n",
    "\n"
   ]
  },
  {
   "cell_type": "code",
   "execution_count": 10,
   "metadata": {},
   "outputs": [],
   "source": [
    "def membuat_model_prediksi_kelembapan(a, b, c, d):\n",
    "    \"\"\"\n",
    "    parameter a adalah parameter untuk nilai suhu\n",
    "    parameter b adalah parametet untuk nilai curah hujan\n",
    "    parameter c adalah parameter untuk lamanya penyinaran matahari\n",
    "    parameter d adalah parameter untuk durasi hujan\n",
    "    constant adalah nilai  ketika dari seluruh parameter bernilai 0\n",
    "    \"\"\"\n",
    "    coef_suhu = -0.4922\n",
    "    coef_curah_hujan = -0.0429\n",
    "    coef_lamanya_penyinaran_matahari = -0.3283\n",
    "    coef_durasi_hujan = 0.0120\n",
    "    constant = 0.9066\n",
    "\n",
    "    return a*coef_suhu + b * coef_curah_hujan + c * coef_lamanya_penyinaran_matahari + d * coef_durasi_hujan + constant\n"
   ]
  },
  {
   "cell_type": "code",
   "execution_count": 7,
   "metadata": {},
   "outputs": [
    {
     "name": "stdout",
     "output_type": "stream",
     "text": [
      "                            OLS Regression Results                            \n",
      "==============================================================================\n",
      "Dep. Variable:     Curah-hujan-scaled   R-squared:                       0.096\n",
      "Model:                            OLS   Adj. R-squared:                  0.083\n",
      "Method:                 Least Squares   F-statistic:                     7.083\n",
      "Date:                Mon, 11 Dec 2023   Prob (F-statistic):           1.97e-05\n",
      "Time:                        10:20:47   Log-Likelihood:                -86.893\n",
      "No. Observations:                 271   AIC:                             183.8\n",
      "Df Residuals:                     266   BIC:                             201.8\n",
      "Df Model:                           4                                         \n",
      "Covariance Type:            nonrobust                                         \n",
      "======================================================================================================\n",
      "                                         coef    std err          t      P>|t|      [0.025      0.975]\n",
      "------------------------------------------------------------------------------------------------------\n",
      "const                                  0.5509      0.164      3.363      0.001       0.228       0.873\n",
      "Temp_rata-rata-scaled                 -0.5121      0.176     -2.911      0.004      -0.859      -0.166\n",
      "Kelembapan_rata-rata-scaled           -0.3028      0.162     -1.871      0.062      -0.621       0.016\n",
      "Lamanya-penyinaran-matahari-scaled     0.2075      0.107      1.944      0.053      -0.003       0.418\n",
      "durasi_hujan-scaled                   -0.2186      0.070     -3.131      0.002      -0.356      -0.081\n",
      "==============================================================================\n",
      "Omnibus:                       82.717   Durbin-Watson:                   0.585\n",
      "Prob(Omnibus):                  0.000   Jarque-Bera (JB):              154.801\n",
      "Skew:                           1.690   Prob(JB):                     2.43e-34\n",
      "Kurtosis:                       4.512   Cond. No.                         16.9\n",
      "==============================================================================\n",
      "\n",
      "Notes:\n",
      "[1] Standard Errors assume that the covariance matrix of the errors is correctly specified.\n"
     ]
    }
   ],
   "source": [
    "# menguji pengaruh kelembapan rata rata, curah hujan, lamanya penyinaran matahari, kecepatan angin rata rata terhadap suhu\n",
    "\n",
    "x_uji3 = sm.add_constant(core_weather[[\"Temp_rata-rata-scaled\",\"Kelembapan_rata-rata-scaled\",\"Lamanya-penyinaran-matahari-scaled\",\"durasi_hujan-scaled\"]])\n",
    "y_uji3 = core_weather[\"Curah-hujan-scaled\"]\n",
    "\n",
    "model3 = sm.OLS(y_uji3,x_uji3).fit()\n",
    "\n",
    "print (model3.summary())\n",
    "\n",
    "\n"
   ]
  },
  {
   "cell_type": "code",
   "execution_count": 11,
   "metadata": {},
   "outputs": [],
   "source": [
    "def membuat_model_prediksi_curah_hujan(a, b, c, d):\n",
    "    \"\"\"\n",
    "    parameter a adalah parameter untuk nilai suhu\n",
    "    parameter b adalah parametet untuk nilai kelembapan\n",
    "    parameter c adalah parameter untuk lamanya penyinaran matahari\n",
    "    parameter d adalah parameter untuk durasi hujan\n",
    "    constant adalah nilai  ketika dari seluruh parameter bernilai 0\n",
    "    \"\"\"\n",
    "    coef_suhu = -0.5121\n",
    "    coef_kelembapan = -0.3028\n",
    "    coef_lamanya_penyinaran_matahari = 0.2075\n",
    "    coef_durasi_hujan = -0.2186\n",
    "    constant = 0.5509\n",
    "\n",
    "    return a*coef_suhu + b * coef_kelembapan + c * coef_lamanya_penyinaran_matahari + d * coef_durasi_hujan + constant\n"
   ]
  },
  {
   "cell_type": "code",
   "execution_count": 13,
   "metadata": {},
   "outputs": [
    {
     "name": "stdout",
     "output_type": "stream",
     "text": [
      "                                    OLS Regression Results                                    \n",
      "==============================================================================================\n",
      "Dep. Variable:     Lamanya-penyinaran-matahari-scaled   R-squared:                       0.521\n",
      "Model:                                            OLS   Adj. R-squared:                  0.514\n",
      "Method:                                 Least Squares   F-statistic:                     72.33\n",
      "Date:                                Mon, 11 Dec 2023   Prob (F-statistic):           2.15e-41\n",
      "Time:                                        10:38:38   Log-Likelihood:                 65.259\n",
      "No. Observations:                                 271   AIC:                            -120.5\n",
      "Df Residuals:                                     266   BIC:                            -102.5\n",
      "Df Model:                                           4                                         \n",
      "Covariance Type:                            nonrobust                                         \n",
      "===============================================================================================\n",
      "                                  coef    std err          t      P>|t|      [0.025      0.975]\n",
      "-----------------------------------------------------------------------------------------------\n",
      "const                           0.6169      0.088      7.043      0.000       0.444       0.789\n",
      "Temp_rata-rata-scaled           0.3409      0.100      3.417      0.001       0.144       0.537\n",
      "Kelembapan_rata-rata-scaled    -0.7537      0.081     -9.352      0.000      -0.912      -0.595\n",
      "Curah-hujan-scaled              0.0675      0.035      1.944      0.053      -0.001       0.136\n",
      "durasi_hujan-scaled            -0.0258      0.041     -0.637      0.525      -0.106       0.054\n",
      "==============================================================================\n",
      "Omnibus:                        2.326   Durbin-Watson:                   1.164\n",
      "Prob(Omnibus):                  0.312   Jarque-Bera (JB):                2.340\n",
      "Skew:                          -0.003   Prob(JB):                        0.310\n",
      "Kurtosis:                       3.455   Cond. No.                         16.1\n",
      "==============================================================================\n",
      "\n",
      "Notes:\n",
      "[1] Standard Errors assume that the covariance matrix of the errors is correctly specified.\n"
     ]
    }
   ],
   "source": [
    "x_uji4 = sm.add_constant(core_weather[[\"Temp_rata-rata-scaled\",\"Kelembapan_rata-rata-scaled\",\"Curah-hujan-scaled\",\"durasi_hujan-scaled\"]])\n",
    "y_uji4 = core_weather[\"Lamanya-penyinaran-matahari-scaled\"]\n",
    "\n",
    "model4 = sm.OLS(y_uji4,x_uji4).fit()\n",
    "\n",
    "print (model4.summary())\n"
   ]
  },
  {
   "cell_type": "code",
   "execution_count": 14,
   "metadata": {},
   "outputs": [],
   "source": [
    "def membuat_model_prediksi_curah_hujan(a, b, c, d):\n",
    "    \"\"\"\n",
    "    parameter a adalah parameter untuk nilai suhu\n",
    "    parameter b adalah parametet untuk nilai kelembapan\n",
    "    parameter c adalah parameter untuk curah hujan\n",
    "    parameter d adalah parameter untuk durasi hujan\n",
    "    constant adalah nilai  ketika dari seluruh parameter bernilai 0\n",
    "    \"\"\"\n",
    "    coef_suhu = 0.3409\n",
    "    coef_kelembapan = -0.7537\n",
    "    coef_curah_hujan = 0.0675\n",
    "    coef_durasi_hujan = -0.0258\n",
    "    constant = 0.6169\n",
    "\n",
    "    return a*coef_suhu + b * coef_kelembapan + c * coef_curah_hujan + d * coef_durasi_hujan + constant\n"
   ]
  },
  {
   "cell_type": "code",
   "execution_count": 15,
   "metadata": {},
   "outputs": [
    {
     "name": "stdout",
     "output_type": "stream",
     "text": [
      "                             OLS Regression Results                            \n",
      "===============================================================================\n",
      "Dep. Variable:     durasi_hujan-scaled   R-squared:                       0.130\n",
      "Model:                             OLS   Adj. R-squared:                  0.117\n",
      "Method:                  Least Squares   F-statistic:                     9.964\n",
      "Date:                 Mon, 11 Dec 2023   Prob (F-statistic):           1.58e-07\n",
      "Time:                         10:40:36   Log-Likelihood:                -46.802\n",
      "No. Observations:                  271   AIC:                             103.6\n",
      "Df Residuals:                      266   BIC:                             121.6\n",
      "Df Model:                            4                                         \n",
      "Covariance Type:             nonrobust                                         \n",
      "======================================================================================================\n",
      "                                         coef    std err          t      P>|t|      [0.025      0.975]\n",
      "------------------------------------------------------------------------------------------------------\n",
      "const                                  0.5514      0.140      3.931      0.000       0.275       0.828\n",
      "Temp_rata-rata-scaled                 -0.4426      0.152     -2.917      0.004      -0.741      -0.144\n",
      "Kelembapan_rata-rata-scaled            0.0632      0.140      0.450      0.653      -0.213       0.340\n",
      "Curah-hujan-scaled                    -0.1626      0.052     -3.131      0.002      -0.265      -0.060\n",
      "Lamanya-penyinaran-matahari-scaled    -0.0590      0.093     -0.637      0.525      -0.241       0.123\n",
      "==============================================================================\n",
      "Omnibus:                       20.669   Durbin-Watson:                   0.385\n",
      "Prob(Omnibus):                  0.000   Jarque-Bera (JB):               22.117\n",
      "Skew:                           0.665   Prob(JB):                     1.58e-05\n",
      "Kurtosis:                       2.563   Cond. No.                         16.6\n",
      "==============================================================================\n",
      "\n",
      "Notes:\n",
      "[1] Standard Errors assume that the covariance matrix of the errors is correctly specified.\n"
     ]
    }
   ],
   "source": [
    "x_uji5 = sm.add_constant(core_weather[[\"Temp_rata-rata-scaled\",\"Kelembapan_rata-rata-scaled\",\"Curah-hujan-scaled\",\"Lamanya-penyinaran-matahari-scaled\"]])\n",
    "y_uji5 = core_weather[\"durasi_hujan-scaled\"]\n",
    "\n",
    "model5 = sm.OLS(y_uji5,x_uji5).fit()\n",
    "\n",
    "print (model5.summary())\n"
   ]
  },
  {
   "cell_type": "code",
   "execution_count": null,
   "metadata": {},
   "outputs": [],
   "source": [
    "def membuat_model_prediksi_curah_hujan(a, b, c, d):\n",
    "    \"\"\"\n",
    "    parameter a adalah parameter untuk nilai suhu\n",
    "    parameter b adalah parametet untuk nilai kelembapan\n",
    "    parameter c adalah parameter untuk curah hujan\n",
    "    parameter d adalah parameter untuk nilai lamanya penyinaran matahari\n",
    "    constant adalah nilai  ketika dari seluruh parameter bernilai 0\n",
    "    \"\"\"\n",
    "    coef_suhu = -0.4426\n",
    "    coef_kelembapan = 0.0632\n",
    "    coef_curah_hujan = -0.1626\n",
    "    coef_lamanya_penyinaran_matahari = -0.0590\n",
    "    constant = 0.5514\n",
    "\n",
    "    return a*coef_suhu + b * coef_kelembapan + c * coef_curah_hujan + d * coef_lamanya_penyinaran_matahari + constant\n"
   ]
  },
  {
   "cell_type": "code",
   "execution_count": 48,
   "metadata": {},
   "outputs": [],
   "source": [
    "# split data dengan sklearn train test split\n",
    "# split data untuk prediksi suhu\n",
    "x1 = x_uji1\n",
    "y1 = y_uji1\n",
    "X1_train, X1_test, y1_train, y1_test = train_test_split(x1, y1, test_size=0.2, random_state=42)\n",
    "\n",
    "# split data untuk prediksi kelembapan\n",
    "x2 = x_uji2\n",
    "y2 = y_uji2\n",
    "X2_train, X2_test, y2_train, y2_test = train_test_split(x2, y2, test_size=0.2, random_state=42)\n",
    "\n",
    "# split data untuk prediksi curah hujan\n",
    "x3 = x_uji3\n",
    "y3 = y_uji3\n",
    "X3_train, X3_test, y3_train, y3_test = train_test_split(x3, y3, test_size=0.2, random_state=42)\n",
    "\n",
    "# split data untuk prediksi lamanya penyinaran matahari\n",
    "\n",
    "x4 = x_uji4\n",
    "y4 = y_uji4\n",
    "X4_train, X4_test, y4_train, y4_test = train_test_split(x4, y4, test_size=0.2, random_state=42)\n",
    "\n",
    "# split data untuk prediksi durasi hujan\n",
    "\n",
    "x5 = x_uji5\n",
    "y5 = y_uji5\n",
    "X5_train, X5_test, y5_train, y5_test = train_test_split(x5, y5, test_size=0.2, random_state=42)\n"
   ]
  },
  {
   "cell_type": "code",
   "execution_count": 43,
   "metadata": {},
   "outputs": [
    {
     "data": {
      "text/plain": [
       "array([0.33123612, 0.34035464, 0.31619904, 0.42712296, 0.54679163,\n",
       "       0.42568189, 0.54973993, 0.33123612, 0.45669802, 0.64033223,\n",
       "       0.55737467, 0.63383422, 0.56806046, 0.31619904, 0.32547893,\n",
       "       0.47248723, 0.56806046, 0.42067475, 0.50658878, 0.31619904,\n",
       "       0.63095855, 0.75732351, 0.33123612, 0.33123612, 0.55737467,\n",
       "       0.4223408 , 0.56511919, 0.56220383, 0.50658878, 0.56511919,\n",
       "       0.50658878, 0.31619904, 0.54917118, 0.56806046, 0.59442452,\n",
       "       0.38240065, 0.38049472, 0.31619904, 0.38049472, 0.38049472,\n",
       "       0.56511919, 0.37229123, 0.76946836, 0.56511919, 0.31619904,\n",
       "       0.59468722, 0.40198952, 0.5182578 , 0.50077301, 0.55737467,\n",
       "       0.56511919, 0.58295203, 0.62079338, 0.6300381 , 0.46873093])"
      ]
     },
     "execution_count": 43,
     "metadata": {},
     "output_type": "execute_result"
    }
   ],
   "source": [
    "prediksi = LinearRegression()\n",
    "\n",
    "prediksi.fit(X1_train, y1_train)\n",
    "\n",
    "prediksi_suhu = prediksi.predict(X1_test)\n",
    "\n",
    "prediksi_suhu"
   ]
  },
  {
   "cell_type": "code",
   "execution_count": 51,
   "metadata": {},
   "outputs": [
    {
     "data": {
      "text/plain": [
       "array([0.73543312, 0.62628877, 0.74895675, 0.53752753, 0.53094872,\n",
       "       0.55421856, 0.53583134, 0.73543312, 0.63196732, 0.2246515 ,\n",
       "       0.43250305, 0.20996087, 0.55716777, 0.74895675, 0.74061717,\n",
       "       0.45187443, 0.55716777, 0.50031589, 0.34001105, 0.74895675,\n",
       "       0.56470144, 0.16171939, 0.73543312, 0.73543312, 0.43250305,\n",
       "       0.56806087, 0.49417894, 0.5330181 , 0.34001105, 0.49417894,\n",
       "       0.34001105, 0.74895675, 0.48969396, 0.55716777, 0.19525732,\n",
       "       0.61691024, 0.53683276, 0.74895675, 0.53683276, 0.53683276,\n",
       "       0.49417894, 0.65915615, 0.32864526, 0.49417894, 0.74895675,\n",
       "       0.5083184 , 0.6255844 , 0.56992309, 0.52887626, 0.43250305,\n",
       "       0.49417894, 0.39483134, 0.53931005, 0.31429555, 0.54509039])"
      ]
     },
     "execution_count": 51,
     "metadata": {},
     "output_type": "execute_result"
    }
   ],
   "source": [
    "prediksi.fit(X2_train, y2_train)\n",
    "prediksi_kelembapan = prediksi.predict(X2_test)\n",
    "prediksi_kelembapan\n"
   ]
  },
  {
   "cell_type": "code",
   "execution_count": 53,
   "metadata": {},
   "outputs": [
    {
     "data": {
      "text/plain": [
       "array([ 0.07254287,  0.15647758, -0.04138827,  0.01726397,  0.28020381,\n",
       "        0.15082786,  0.27557941,  0.07254287,  0.11900655,  0.06616878,\n",
       "        0.21104512,  0.16615135,  0.24631108, -0.04138827,  0.38395071,\n",
       "        0.24756822,  0.24631108,  0.15342935,  0.22162423, -0.04138827,\n",
       "        0.3566918 ,  0.11110496,  0.07254287,  0.07254287,  0.21104512,\n",
       "        0.16060436,  0.22865816,  0.30014798,  0.22162423,  0.22865816,\n",
       "        0.22162423, -0.04138827,  0.07897088,  0.24631108,  0.04599194,\n",
       "        0.19017312,  0.08488232, -0.04138827,  0.08488232,  0.08488232,\n",
       "        0.22865816,  0.02005047,  0.24731325,  0.22865816, -0.04138827,\n",
       "        0.20978797,  0.01562005,  0.14797446,  0.24049745,  0.21104512,\n",
       "        0.22865816,  0.18063505,  0.33980364,  0.13039504,  0.17856768])"
      ]
     },
     "execution_count": 53,
     "metadata": {},
     "output_type": "execute_result"
    }
   ],
   "source": [
    "prediksi.fit(X3_train, y3_train)\n",
    "prediksi_curah_hujan = prediksi.predict(X3_test)\n",
    "prediksi_curah_hujan"
   ]
  },
  {
   "cell_type": "code",
   "execution_count": 54,
   "metadata": {},
   "outputs": [
    {
     "data": {
      "text/plain": [
       "array([ 0.08205281,  0.03064342,  0.11333895,  0.31843945,  0.5927502 ,\n",
       "        0.21289641,  0.59037673,  0.08205281,  0.3081329 ,  0.67496399,\n",
       "        0.43906438,  0.59243963,  0.44423185,  0.11333895, -0.16103561,\n",
       "        0.43740677,  0.44423185,  0.4040758 ,  0.50069983,  0.11333895,\n",
       "        0.51326727,  0.89082913,  0.08205281,  0.08205281,  0.43906438,\n",
       "        0.17359439,  0.44062481,  0.61199469,  0.50069983,  0.44062481,\n",
       "        0.50069983,  0.11333895,  0.52160192,  0.44423185,  0.58251203,\n",
       "        0.06943888,  0.16032096,  0.11333895,  0.16032096,  0.16032096,\n",
       "        0.44062481,  0.20159446,  0.85430833,  0.44062481,  0.11333895,\n",
       "        0.52398486,  0.26597626,  0.62648276,  0.29265889,  0.43906438,\n",
       "        0.44062481,  0.51365939,  0.49918078,  0.63091543,  0.28615661])"
      ]
     },
     "execution_count": 54,
     "metadata": {},
     "output_type": "execute_result"
    }
   ],
   "source": [
    "prediksi.fit(X4_train, y4_train)\n",
    "prediksi_lamanya_penyinaran_matahari = prediksi.predict(X4_test)\n",
    "prediksi_lamanya_penyinaran_matahari"
   ]
  },
  {
   "cell_type": "code",
   "execution_count": 55,
   "metadata": {},
   "outputs": [
    {
     "data": {
      "text/plain": [
       "array([0.47514912, 0.45636736, 0.47187113, 0.29474973, 0.17328978,\n",
       "       0.37557167, 0.19341041, 0.47514912, 0.38692964, 0.12803064,\n",
       "       0.2847562 , 0.15995721, 0.36201278, 0.47187113, 0.63011156,\n",
       "       0.17611464, 0.36201278, 0.17281323, 0.12568899, 0.47187113,\n",
       "       0.36297614, 0.0575953 , 0.47514912, 0.47514912, 0.2847562 ,\n",
       "       0.43324465, 0.33270316, 0.17526904, 0.12568899, 0.33270316,\n",
       "       0.12568899, 0.47187113, 0.25843382, 0.36201278, 0.13624366,\n",
       "       0.49138505, 0.36184365, 0.47187113, 0.36184365, 0.36184365,\n",
       "       0.33270316, 0.39462503, 0.15831394, 0.33270316, 0.47187113,\n",
       "       0.30847657, 0.36183248, 0.15376226, 0.39219885, 0.2847562 ,\n",
       "       0.33270316, 0.23901022, 0.35159763, 0.17721752, 0.36044285])"
      ]
     },
     "execution_count": 55,
     "metadata": {},
     "output_type": "execute_result"
    }
   ],
   "source": [
    "prediksi.fit(X5_train, y5_train)\n",
    "prediksi_durasi_hujan = prediksi.predict(X5_test)\n",
    "prediksi_durasi_hujan"
   ]
  },
  {
   "cell_type": "code",
   "execution_count": 34,
   "metadata": {},
   "outputs": [
    {
     "name": "stdout",
     "output_type": "stream",
     "text": [
      "[26.22054036 26.27616333 26.12881413 26.80545004 27.53542897 26.79665956\n",
      " 27.55341358 26.22054036 26.98585794 28.10602658 27.59998548 28.06638877\n",
      " 27.66516878 26.12881413 26.18542147 27.08217208 27.66516878 26.766116\n",
      " 27.29019157 26.12881413 28.04884713 28.81967339 26.22054036 26.22054036\n",
      " 27.59998548 26.77627888 27.64722708 27.62944335 27.29019157 27.64722708\n",
      " 27.29019157 26.12881413 27.54994418 27.66516878 27.82598958 26.53264396\n",
      " 26.5210178  26.12881413 26.5210178  26.5210178  27.64722708 26.4709765\n",
      " 28.89375701 27.64722708 26.12881413 27.82759206 26.65213605 27.36137259\n",
      " 27.25471533 27.59998548 27.64722708 27.7560074  27.98683959 28.0432324\n",
      " 27.05925867]\n"
     ]
    }
   ],
   "source": [
    "# Ambil kolom suhu dari core_weather\n",
    "suhu_column = core_weather['Temp_rata-rata']\n",
    "\n",
    "# Hitung nilai minimum dan maksimum dari kolom suhu\n",
    "min_suhu = suhu_column.min()\n",
    "max_suhu = suhu_column.max()\n",
    "\n",
    "# Buat DataFrame untuk menyimpan hasil inversi scaling\n",
    "prediksi_suhu_baru = pd.DataFrame()\n",
    "\n",
    "# Lakukan inversi scaling hanya untuk kolom suhu\n",
    "# for col in prediksi_suhu:\n",
    "#     prediksi_suhu_baru[col] = (prediksi_suhu[col]) * (max_suhu - min_suhu) + min_suhu\n",
    "\n",
    "prediksi_suhu_skala_asli = (prediksi_suhu * (max_suhu - min_suhu)) + min_suhu\n",
    "\n",
    "print(prediksi_suhu_skala_asli)\n"
   ]
  },
  {
   "cell_type": "code",
   "execution_count": 57,
   "metadata": {},
   "outputs": [
    {
     "name": "stdout",
     "output_type": "stream",
     "text": [
      "[88.26929309 84.66752956 88.7155727  81.73840855 81.52130783 82.28921247\n",
      " 81.68243427 88.26929309 84.85492155 71.41349958 78.27260078 70.92870875\n",
      " 82.38653625 88.7155727  88.44036677 78.91185633 82.38653625 80.51042446\n",
      " 75.22036468 88.7155727  82.63514753 69.33673995 88.26929309 88.26929309\n",
      " 78.27260078 82.74600884 80.30790506 81.58959745 75.22036468 80.30790506\n",
      " 75.22036468 88.7155727  80.15990065 82.38653625 70.44349147 84.35803788\n",
      " 81.71548116 88.7155727  81.71548116 81.71548116 80.30790506 85.75215307\n",
      " 74.84529367 80.30790506 88.7155727  80.77450721 84.64428518 82.80746203\n",
      " 81.45291643 78.27260078 80.30790506 77.0294342  81.79723169 74.3717533\n",
      " 81.98798295]\n"
     ]
    }
   ],
   "source": [
    "# Ambil kolom suhu dari core_weather\n",
    "kelembapan = core_weather['Kelembapan_rata-rata']\n",
    "\n",
    "# Hitung nilai minimum dan maksimum dari kolom suhu\n",
    "min_kelembapan = kelembapan.min()\n",
    "max_kelembapan = kelembapan.max()\n",
    "\n",
    "# Buat DataFrame untuk menyimpan hasil inversi scaling\n",
    "\n",
    "# Lakukan inversi scaling hanya untuk kolom suhu\n",
    "# for col in prediksi_suhu:\n",
    "#     prediksi_suhu_baru[col] = (prediksi_suhu[col]) * (max_suhu - min_suhu) + min_suhu\n",
    "\n",
    "prediksi_kelembapan_skala_asli = (prediksi_kelembapan * (max_kelembapan - min_kelembapan)) + min_kelembapan\n",
    "\n",
    "print(prediksi_kelembapan_skala_asli)\n"
   ]
  },
  {
   "cell_type": "code",
   "execution_count": 68,
   "metadata": {},
   "outputs": [
    {
     "name": "stdout",
     "output_type": "stream",
     "text": [
      "[ 644.7610024  1390.7727019  -367.85897349  153.44220475 2490.45149831\n",
      " 1340.55804723 2449.3498032   644.7610024  1057.73020672  588.10812081\n",
      " 1875.76900392 1476.75322033 2189.21285832 -367.85897349 3412.55389023\n",
      " 2200.38635282 2189.21285832 1363.68002084 1969.79613085 -367.85897349\n",
      " 3170.27670318  987.50091562  644.7610024   644.7610024  1875.76900392\n",
      " 1427.4515362  2032.31370896 2667.71526194 1969.79613085 2032.31370896\n",
      " 1969.79613085 -367.85897349  701.89314888 2189.21285832  408.77633768\n",
      " 1690.25866908  754.43408491 -367.85897349  754.43408491  754.43408491\n",
      " 2032.31370896  178.20860445 2198.12020942 2032.31370896 -367.85897349\n",
      " 1864.59550942  138.8310222  1315.1969636  2137.54136376 1875.76900392\n",
      " 2032.31370896 1605.48432645 3020.1747697  1158.95110957 1587.10957147]\n"
     ]
    }
   ],
   "source": [
    "# Ambil kolom suhu dari core_weather\n",
    "curah_hujan = core_weather['Curah-hujan']\n",
    "\n",
    "# Hitung nilai minimum dan maksimum dari kolom suhu\n",
    "min_curah_hujan = curah_hujan.min()\n",
    "max_curah_hujan = curah_hujan.max()\n",
    "\n",
    "\n",
    "prediksi_curah_hujan_skala_asli = (prediksi_curah_hujan * (max_curah_hujan - min_curah_hujan)) + min_curah_hujan\n",
    "\n",
    "print(prediksi_curah_hujan_skala_asli)\n"
   ]
  },
  {
   "cell_type": "code",
   "execution_count": 62,
   "metadata": {},
   "outputs": [
    {
     "name": "stdout",
     "output_type": "stream",
     "text": [
      "[ 0.86155446  0.32175591  1.19005901  3.34361422  6.22387715  2.23541235\n",
      "  6.19895563  0.86155446  3.2353955   7.08712191  4.61017598  6.22061613\n",
      "  4.6644344   1.19005901 -1.69087392  4.59277112  4.6644344   4.24279594\n",
      "  5.25734817  1.19005901  5.38930629  9.35370583  0.86155446  0.86155446\n",
      "  4.61017598  1.82274107  4.62656045  6.42594426  5.25734817  4.62656045\n",
      "  5.25734817  1.19005901  5.47682014  4.6644344   6.11637629  0.72910827\n",
      "  1.68337004  1.19005901  1.68337004  1.68337004  4.62656045  2.11674181\n",
      "  8.97023745  4.62656045  1.19005901  5.50184103  2.79275073  6.57806897\n",
      "  3.07291835  4.61017598  4.62656045  5.39342356  5.24139822  6.62461198\n",
      "  3.0046444 ]\n"
     ]
    }
   ],
   "source": [
    "# Ambil kolom suhu dari core_weather\n",
    "lamanya_penyinaran_matahari = core_weather['Lamanya-penyinaran-matahari']\n",
    "\n",
    "# Hitung nilai minimum dan maksimum dari kolom suhu\n",
    "min_lamanya_penyinaran_matahari = lamanya_penyinaran_matahari.min()\n",
    "max_lamanya_penyinaran_matahari = lamanya_penyinaran_matahari.max()\n",
    "\n",
    "\n",
    "prediksi_lamanya_penyinaran_matahari_skala_asli = (prediksi_lamanya_penyinaran_matahari * (max_lamanya_penyinaran_matahari - min_lamanya_penyinaran_matahari)) + min_lamanya_penyinaran_matahari\n",
    "\n",
    "print(prediksi_lamanya_penyinaran_matahari_skala_asli)\n"
   ]
  },
  {
   "cell_type": "code",
   "execution_count": 64,
   "metadata": {},
   "outputs": [
    {
     "name": "stdout",
     "output_type": "stream",
     "text": [
      "[2.42544736 2.36910209 2.41561339 1.8842492  1.51986933 2.12671502\n",
      " 1.58023122 2.42544736 2.16078892 1.38409193 1.85426859 1.47987164\n",
      " 2.08603834 2.41561339 2.89033469 1.52834392 2.08603834 1.51843969\n",
      " 1.37706697 2.41561339 2.08892841 1.1727859  2.42544736 2.42544736\n",
      " 1.85426859 2.29973396 1.99810947 1.52580713 1.37706697 1.99810947\n",
      " 1.37706697 2.41561339 1.77530146 2.08603834 1.40873099 2.47415515\n",
      " 2.08553094 2.41561339 2.08553094 2.08553094 1.99810947 2.18387508\n",
      " 1.47494182 1.99810947 2.41561339 1.92542972 2.08549744 1.46128678\n",
      " 2.17659656 1.85426859 1.99810947 1.71703065 2.05479288 1.53165257\n",
      " 2.08132854]\n"
     ]
    }
   ],
   "source": [
    "# Ambil kolom suhu dari core_weather\n",
    "durasi_hujan = core_weather['durasi_hujan']\n",
    "\n",
    "# Hitung nilai minimum dan maksimum dari kolom suhu\n",
    "min_durasi_hujan = durasi_hujan.min()\n",
    "max_durasi_hujan = durasi_hujan.max()\n",
    "\n",
    "\n",
    "prediksi_durasi_hujan_skala_asli = (prediksi_durasi_hujan * (max_durasi_hujan - min_durasi_hujan)) + min_durasi_hujan\n",
    "\n",
    "print(prediksi_durasi_hujan_skala_asli)\n"
   ]
  },
  {
   "cell_type": "code",
   "execution_count": 38,
   "metadata": {},
   "outputs": [
    {
     "name": "stdout",
     "output_type": "stream",
     "text": [
      "Mean Squared Error: 0.6064583321652595\n",
      "Root Mean Squared Error: 0.7787543464824189\n"
     ]
    }
   ],
   "source": [
    "# evaluasi model\n",
    "\n",
    "y1_test_skala_asli = (y1_test * (max_suhu - min_suhu)) + min_suhu\n",
    "\n",
    "\n",
    "mse1 = mean_squared_error(y1_test_skala_asli, prediksi_suhu_skala_asli)\n",
    "rmse1 = np.sqrt(mse1)\n",
    "\n",
    "print(f\"Mean Squared Error: {mse1}\")\n",
    "print(f\"Root Mean Squared Error: {rmse1}\")\n",
    "\n"
   ]
  },
  {
   "cell_type": "code",
   "execution_count": 77,
   "metadata": {},
   "outputs": [
    {
     "name": "stdout",
     "output_type": "stream",
     "text": [
      "Mean Squared Error: 25.349224130110386\n",
      "Root Mean Squared Error: 5.034801299963126\n"
     ]
    }
   ],
   "source": [
    "\n",
    "\n",
    "y2_test_skala_asli = (y2_test * (max_kelembapan - min_kelembapan)) + min_kelembapan\n",
    "\n",
    "\n",
    "mse2 = mean_squared_error(y2_test_skala_asli, prediksi_kelembapan_skala_asli)\n",
    "rmse2 = np.sqrt(mse2)\n",
    "\n",
    "print(f\"Mean Squared Error: {mse2}\")\n",
    "print(f\"Root Mean Squared Error: {rmse2}\")\n"
   ]
  },
  {
   "cell_type": "code",
   "execution_count": 73,
   "metadata": {},
   "outputs": [
    {
     "name": "stdout",
     "output_type": "stream",
     "text": [
      "Mean Squared Error: 9750012.039774934\n",
      "Root Mean Squared Error: 3122.5009271055364\n"
     ]
    }
   ],
   "source": [
    "\n",
    "\n",
    "y3_test_skala_asli = (y3_test * (max_curah_hujan - min_curah_hujan)) + min_curah_hujan\n",
    "\n",
    "\n",
    "mse3 = mean_squared_error(y3_test_skala_asli, prediksi_curah_hujan_skala_asli)\n",
    "rmse3 = np.sqrt(mse3)\n",
    "\n",
    "print(f\"Mean Squared Error: {mse3}\")\n",
    "print(f\"Root Mean Squared Error: {rmse3}\")\n"
   ]
  },
  {
   "cell_type": "code",
   "execution_count": 74,
   "metadata": {},
   "outputs": [
    {
     "name": "stdout",
     "output_type": "stream",
     "text": [
      "Mean Squared Error: 4.548355127706781\n",
      "Root Mean Squared Error: 2.132687301904989\n"
     ]
    }
   ],
   "source": [
    "\n",
    "\n",
    "y4_test_skala_asli = (y4_test * (max_lamanya_penyinaran_matahari - min_lamanya_penyinaran_matahari)) + min_lamanya_penyinaran_matahari\n",
    "\n",
    "\n",
    "mse4 = mean_squared_error(y4_test_skala_asli, prediksi_lamanya_penyinaran_matahari_skala_asli)\n",
    "rmse4 = np.sqrt(mse4)\n",
    "\n",
    "print(f\"Mean Squared Error: {mse4}\")\n",
    "print(f\"Root Mean Squared Error: {rmse4}\")\n"
   ]
  },
  {
   "cell_type": "code",
   "execution_count": 75,
   "metadata": {},
   "outputs": [
    {
     "name": "stdout",
     "output_type": "stream",
     "text": [
      "Mean Squared Error: 10.245566747443869\n",
      "Root Mean Squared Error: 3.2008696861078034\n"
     ]
    }
   ],
   "source": [
    "\n",
    "y5_test_skala_asli = (y5_test * (max_durasi_hujan - min_durasi_hujan)) + min_durasi_hujan\n",
    "\n",
    "\n",
    "mse5 = mean_squared_error(y5_test_skala_asli, prediksi_lamanya_penyinaran_matahari_skala_asli)\n",
    "rmse5 = np.sqrt(mse5)\n",
    "\n",
    "print(f\"Mean Squared Error: {mse5}\")\n",
    "print(f\"Root Mean Squared Error: {rmse5}\")\n"
   ]
  }
 ],
 "metadata": {
  "kernelspec": {
   "display_name": "Python 3",
   "language": "python",
   "name": "python3"
  },
  "language_info": {
   "codemirror_mode": {
    "name": "ipython",
    "version": 3
   },
   "file_extension": ".py",
   "mimetype": "text/x-python",
   "name": "python",
   "nbconvert_exporter": "python",
   "pygments_lexer": "ipython3",
   "version": "3.11.5"
  }
 },
 "nbformat": 4,
 "nbformat_minor": 2
}
