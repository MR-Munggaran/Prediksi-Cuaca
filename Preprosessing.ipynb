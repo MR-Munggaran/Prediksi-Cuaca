{
  "cells": [
    {
      "cell_type": "markdown",
      "metadata": {
        "colab_type": "text",
        "id": "view-in-github"
      },
      "source": [
        "<a href=\"https://colab.research.google.com/github/MR-Munggaran/Prediksi-Cuaca/blob/main/Prediksi_Cuaca.ipynb\" target=\"_parent\"><img src=\"https://colab.research.google.com/assets/colab-badge.svg\" alt=\"Open In Colab\"/></a>"
      ]
    },
    {
      "cell_type": "code",
      "execution_count": 4,
      "metadata": {
        "id": "EsQEgZlR7r6A"
      },
      "outputs": [],
      "source": [
        "import pandas as pd"
      ]
    },
    {
      "cell_type": "code",
      "execution_count": 5,
      "metadata": {
        "colab": {
          "base_uri": "https://localhost:8080/"
        },
        "id": "dWoB_SLm7-QA",
        "outputId": "1863e294-a1ec-4d9d-8846-97bcb1b6b478"
      },
      "outputs": [
        {
          "name": "stdout",
          "output_type": "stream",
          "text": [
            "Tn         0.003650\n",
            "Tx         0.000000\n",
            "Tavg       0.000000\n",
            "RH_avg     0.000000\n",
            "RR         0.003650\n",
            "ss         0.007299\n",
            "ff_x       0.000000\n",
            "ddd_x      0.000000\n",
            "ff_avg     0.000000\n",
            "ddd_car    0.000000\n",
            "dtype: float64\n"
          ]
        }
      ],
      "source": [
        "weather = pd.read_csv('laporan_iklim_fixed_Nov_2023.csv', index_col = \"Tanggal\")\n",
        "\n",
        "output = weather.apply(pd.isnull).sum()/weather.shape[0]\n",
        "\n",
        "print(output)"
      ]
    },
    {
      "cell_type": "code",
      "execution_count": 6,
      "metadata": {
        "id": "0K8dQgNc8QMp"
      },
      "outputs": [],
      "source": [
        "core_weather = weather[[\"Tavg\", \"RH_avg\",\"RR\", \"ss\", \"ff_avg\"]].copy()"
      ]
    },
    {
      "cell_type": "code",
      "execution_count": 7,
      "metadata": {
        "id": "3qFbMmS78Rt4"
      },
      "outputs": [],
      "source": [
        "core_weather.columns = [\"Temp_rata-rata\", \"Kelembapan_rata-rata\",\"Curah_hujan\",\"Lamanya_penyinaran_matahari\",\"Kecepatan_angin_rata-rata\"]\n",
        "\n"
      ]
    },
    {
      "cell_type": "markdown",
      "metadata": {
        "id": "IkFeV_rW82mr"
      },
      "source": [
        "Keterangan :\n",
        "\n",
        "\n",
        "*   8888: data tidak terukur\n",
        "*   9999: Tidak Ada Data (tidak dilakukan pengukuran)\n",
        "*   Tn: Temperatur minimum\t (°C)\n",
        "*   Tx: Temperatur maksimum (°C)\n",
        "*   Tavg: Temperatur rata-rata (°C)\n",
        "*   RH_avg: Kelembapan rata-rata (%)\n",
        "*   RR: Curah hujan (mm)\n",
        "*   ss: Lamanya penyinaran matahari (jam)\n",
        "*   ff_x: Kecepatan angin maksimum (m/s)\n",
        "*   ddd_x: Arah angin saat kecepatan maksimum (°)\n",
        "*   ff_avg: Kecepatan angin rata-rata (m/s)\n",
        "*   ddd_car: Arah angin terbanyak (°)\n"
      ]
    },
    {
      "cell_type": "code",
      "execution_count": 8,
      "metadata": {
        "colab": {
          "base_uri": "https://localhost:8080/",
          "height": 455
        },
        "id": "FP_oJAzi8l2a",
        "outputId": "bc2ee514-539a-41bd-dfd6-bfbb0139cc4a"
      },
      "outputs": [
        {
          "data": {
            "text/html": [
              "<div>\n",
              "<style scoped>\n",
              "    .dataframe tbody tr th:only-of-type {\n",
              "        vertical-align: middle;\n",
              "    }\n",
              "\n",
              "    .dataframe tbody tr th {\n",
              "        vertical-align: top;\n",
              "    }\n",
              "\n",
              "    .dataframe thead th {\n",
              "        text-align: right;\n",
              "    }\n",
              "</style>\n",
              "<table border=\"1\" class=\"dataframe\">\n",
              "  <thead>\n",
              "    <tr style=\"text-align: right;\">\n",
              "      <th></th>\n",
              "      <th>Temp_rata-rata</th>\n",
              "      <th>Kelembapan_rata-rata</th>\n",
              "      <th>Curah_hujan</th>\n",
              "      <th>Lamanya_penyinaran_matahari</th>\n",
              "      <th>Kecepatan_angin_rata-rata</th>\n",
              "    </tr>\n",
              "    <tr>\n",
              "      <th>Tanggal</th>\n",
              "      <th></th>\n",
              "      <th></th>\n",
              "      <th></th>\n",
              "      <th></th>\n",
              "      <th></th>\n",
              "    </tr>\n",
              "  </thead>\n",
              "  <tbody>\n",
              "    <tr>\n",
              "      <th>1/1/2023</th>\n",
              "      <td>26.4</td>\n",
              "      <td>90</td>\n",
              "      <td>55.1</td>\n",
              "      <td>0.0</td>\n",
              "      <td>2</td>\n",
              "    </tr>\n",
              "    <tr>\n",
              "      <th>2/1/2023</th>\n",
              "      <td>26.4</td>\n",
              "      <td>90</td>\n",
              "      <td>55.1</td>\n",
              "      <td>0.0</td>\n",
              "      <td>2</td>\n",
              "    </tr>\n",
              "    <tr>\n",
              "      <th>3/1/2023</th>\n",
              "      <td>26.4</td>\n",
              "      <td>90</td>\n",
              "      <td>55.1</td>\n",
              "      <td>0.0</td>\n",
              "      <td>2</td>\n",
              "    </tr>\n",
              "    <tr>\n",
              "      <th>4/1/2023</th>\n",
              "      <td>26.0</td>\n",
              "      <td>92</td>\n",
              "      <td>4.1</td>\n",
              "      <td>0.0</td>\n",
              "      <td>2</td>\n",
              "    </tr>\n",
              "    <tr>\n",
              "      <th>5/1/2023</th>\n",
              "      <td>25.6</td>\n",
              "      <td>90</td>\n",
              "      <td>18.6</td>\n",
              "      <td>0.0</td>\n",
              "      <td>3</td>\n",
              "    </tr>\n",
              "    <tr>\n",
              "      <th>...</th>\n",
              "      <td>...</td>\n",
              "      <td>...</td>\n",
              "      <td>...</td>\n",
              "      <td>...</td>\n",
              "      <td>...</td>\n",
              "    </tr>\n",
              "    <tr>\n",
              "      <th>27-09-2023</th>\n",
              "      <td>29.4</td>\n",
              "      <td>65</td>\n",
              "      <td>1.5</td>\n",
              "      <td>9.2</td>\n",
              "      <td>3</td>\n",
              "    </tr>\n",
              "    <tr>\n",
              "      <th>28-09-2023</th>\n",
              "      <td>29.7</td>\n",
              "      <td>65</td>\n",
              "      <td>1.5</td>\n",
              "      <td>10.0</td>\n",
              "      <td>3</td>\n",
              "    </tr>\n",
              "    <tr>\n",
              "      <th>29-09-2023</th>\n",
              "      <td>30.3</td>\n",
              "      <td>66</td>\n",
              "      <td>1.5</td>\n",
              "      <td>9.9</td>\n",
              "      <td>3</td>\n",
              "    </tr>\n",
              "    <tr>\n",
              "      <th>30-09-2023</th>\n",
              "      <td>29.0</td>\n",
              "      <td>76</td>\n",
              "      <td>1.5</td>\n",
              "      <td>10.0</td>\n",
              "      <td>2</td>\n",
              "    </tr>\n",
              "    <tr>\n",
              "      <th>1/10/2023</th>\n",
              "      <td>29.1</td>\n",
              "      <td>76</td>\n",
              "      <td>1.5</td>\n",
              "      <td>9.6</td>\n",
              "      <td>2</td>\n",
              "    </tr>\n",
              "  </tbody>\n",
              "</table>\n",
              "<p>274 rows × 5 columns</p>\n",
              "</div>"
            ],
            "text/plain": [
              "            Temp_rata-rata  Kelembapan_rata-rata  Curah_hujan  \\\n",
              "Tanggal                                                         \n",
              "1/1/2023              26.4                    90         55.1   \n",
              "2/1/2023              26.4                    90         55.1   \n",
              "3/1/2023              26.4                    90         55.1   \n",
              "4/1/2023              26.0                    92          4.1   \n",
              "5/1/2023              25.6                    90         18.6   \n",
              "...                    ...                   ...          ...   \n",
              "27-09-2023            29.4                    65          1.5   \n",
              "28-09-2023            29.7                    65          1.5   \n",
              "29-09-2023            30.3                    66          1.5   \n",
              "30-09-2023            29.0                    76          1.5   \n",
              "1/10/2023             29.1                    76          1.5   \n",
              "\n",
              "            Lamanya_penyinaran_matahari  Kecepatan_angin_rata-rata  \n",
              "Tanggal                                                             \n",
              "1/1/2023                            0.0                          2  \n",
              "2/1/2023                            0.0                          2  \n",
              "3/1/2023                            0.0                          2  \n",
              "4/1/2023                            0.0                          2  \n",
              "5/1/2023                            0.0                          3  \n",
              "...                                 ...                        ...  \n",
              "27-09-2023                          9.2                          3  \n",
              "28-09-2023                         10.0                          3  \n",
              "29-09-2023                          9.9                          3  \n",
              "30-09-2023                         10.0                          2  \n",
              "1/10/2023                           9.6                          2  \n",
              "\n",
              "[274 rows x 5 columns]"
            ]
          },
          "execution_count": 8,
          "metadata": {},
          "output_type": "execute_result"
        }
      ],
      "source": [
        "core_weather"
      ]
    },
    {
      "cell_type": "code",
      "execution_count": 9,
      "metadata": {
        "colab": {
          "base_uri": "https://localhost:8080/"
        },
        "id": "SQIVeMSz9Amu",
        "outputId": "b8a0d459-7c8d-4ddb-a6a7-0940208ddefb"
      },
      "outputs": [
        {
          "data": {
            "text/plain": [
              "Temp_rata-rata                 0.000000\n",
              "Kelembapan_rata-rata           0.000000\n",
              "Curah_hujan                    0.003650\n",
              "Lamanya_penyinaran_matahari    0.007299\n",
              "Kecepatan_angin_rata-rata      0.000000\n",
              "dtype: float64"
            ]
          },
          "execution_count": 9,
          "metadata": {},
          "output_type": "execute_result"
        }
      ],
      "source": [
        "core_weather.apply(pd.isnull).sum()/core_weather.shape[0]"
      ]
    },
    {
      "cell_type": "code",
      "execution_count": 10,
      "metadata": {
        "colab": {
          "base_uri": "https://localhost:8080/"
        },
        "id": "7QrYVgQp-OAr",
        "outputId": "695aac30-c868-448c-8f5d-3c110537e59b"
      },
      "outputs": [
        {
          "data": {
            "text/plain": [
              "Curah_hujan\n",
              "0.0       99\n",
              "8888.0    39\n",
              "1.7       31\n",
              "10.0      28\n",
              "18.6      24\n",
              "1.5       10\n",
              "0.8        5\n",
              "55.1       3\n",
              "28.9       2\n",
              "0.5        2\n",
              "0.4        2\n",
              "7.4        2\n",
              "7.0        2\n",
              "11.7       1\n",
              "13.0       1\n",
              "6.7        1\n",
              "72.0       1\n",
              "33.9       1\n",
              "8.7        1\n",
              "3.7        1\n",
              "49.0       1\n",
              "7.3        1\n",
              "63.0       1\n",
              "7.5        1\n",
              "12.5       1\n",
              "17.5       1\n",
              "5.2        1\n",
              "9.3        1\n",
              "0.7        1\n",
              "4.1        1\n",
              "15.2       1\n",
              "25.5       1\n",
              "4.5        1\n",
              "30.5       1\n",
              "6.0        1\n",
              "35.1       1\n",
              "16.8       1\n",
              "Name: count, dtype: int64"
            ]
          },
          "execution_count": 10,
          "metadata": {},
          "output_type": "execute_result"
        }
      ],
      "source": [
        "core_weather[\"Curah_hujan\"].value_counts()"
      ]
    },
    {
      "cell_type": "code",
      "execution_count": 11,
      "metadata": {
        "colab": {
          "base_uri": "https://localhost:8080/"
        },
        "id": "HBHS-64qPDBq",
        "outputId": "ec4dea5e-6864-4a49-d56f-51c7bcef0b11"
      },
      "outputs": [
        {
          "data": {
            "text/plain": [
              "Kecepatan_angin_rata-rata\n",
              "2    136\n",
              "1     87\n",
              "4     32\n",
              "3     19\n",
              "Name: count, dtype: int64"
            ]
          },
          "execution_count": 11,
          "metadata": {},
          "output_type": "execute_result"
        }
      ],
      "source": [
        "core_weather['Kecepatan_angin_rata-rata'].value_counts()"
      ]
    },
    {
      "cell_type": "code",
      "execution_count": 12,
      "metadata": {
        "colab": {
          "base_uri": "https://localhost:8080/"
        },
        "id": "fsWSLoboPNsW",
        "outputId": "6932622f-efb1-4dd5-d617-b864376000c6"
      },
      "outputs": [
        {
          "data": {
            "text/plain": [
              "Kelembapan_rata-rata\n",
              "80    36\n",
              "89    35\n",
              "91    34\n",
              "78    26\n",
              "75    17\n",
              "83    17\n",
              "76    16\n",
              "74    13\n",
              "77    10\n",
              "79     9\n",
              "90     8\n",
              "84     8\n",
              "88     5\n",
              "86     5\n",
              "85     5\n",
              "81     4\n",
              "82     4\n",
              "87     4\n",
              "71     3\n",
              "97     2\n",
              "72     2\n",
              "66     2\n",
              "64     2\n",
              "65     2\n",
              "94     1\n",
              "92     1\n",
              "69     1\n",
              "73     1\n",
              "70     1\n",
              "Name: count, dtype: int64"
            ]
          },
          "execution_count": 12,
          "metadata": {},
          "output_type": "execute_result"
        }
      ],
      "source": [
        "core_weather['Kelembapan_rata-rata'].value_counts()"
      ]
    },
    {
      "cell_type": "code",
      "execution_count": 13,
      "metadata": {
        "colab": {
          "base_uri": "https://localhost:8080/"
        },
        "id": "_zFv8lyu-faU",
        "outputId": "7a9757a2-0757-47ed-b61c-02bc849a2efa"
      },
      "outputs": [
        {
          "data": {
            "text/plain": [
              "Temp_rata-rata\n",
              "26.1    33\n",
              "26.2    31\n",
              "27.0    26\n",
              "27.6    25\n",
              "27.8    20\n",
              "27.2    18\n",
              "26.5    13\n",
              "26.6     7\n",
              "26.3     7\n",
              "26.8     6\n",
              "27.3     6\n",
              "26.4     6\n",
              "28.8     5\n",
              "27.4     5\n",
              "25.6     4\n",
              "27.5     4\n",
              "29.4     4\n",
              "26.9     4\n",
              "28.3     4\n",
              "28.0     4\n",
              "28.9     3\n",
              "26.7     3\n",
              "27.1     3\n",
              "28.1     3\n",
              "27.9     2\n",
              "29.7     2\n",
              "29.2     2\n",
              "29.9     2\n",
              "29.0     2\n",
              "28.6     2\n",
              "29.1     2\n",
              "29.3     2\n",
              "28.2     2\n",
              "28.4     2\n",
              "24.2     2\n",
              "26.0     2\n",
              "27.7     2\n",
              "25.8     1\n",
              "25.2     1\n",
              "28.5     1\n",
              "30.3     1\n",
              "Name: count, dtype: int64"
            ]
          },
          "execution_count": 13,
          "metadata": {},
          "output_type": "execute_result"
        }
      ],
      "source": [
        "core_weather[\"Temp_rata-rata\"].value_counts()"
      ]
    },
    {
      "cell_type": "code",
      "execution_count": 14,
      "metadata": {
        "colab": {
          "base_uri": "https://localhost:8080/",
          "height": 455
        },
        "id": "47HYCvnF-1cm",
        "outputId": "225ec018-7ced-442a-8284-99bbfd8c1b34"
      },
      "outputs": [
        {
          "data": {
            "text/html": [
              "<div>\n",
              "<style scoped>\n",
              "    .dataframe tbody tr th:only-of-type {\n",
              "        vertical-align: middle;\n",
              "    }\n",
              "\n",
              "    .dataframe tbody tr th {\n",
              "        vertical-align: top;\n",
              "    }\n",
              "\n",
              "    .dataframe thead th {\n",
              "        text-align: right;\n",
              "    }\n",
              "</style>\n",
              "<table border=\"1\" class=\"dataframe\">\n",
              "  <thead>\n",
              "    <tr style=\"text-align: right;\">\n",
              "      <th></th>\n",
              "      <th>Temp_rata-rata</th>\n",
              "      <th>Kelembapan_rata-rata</th>\n",
              "      <th>Curah_hujan</th>\n",
              "      <th>Lamanya_penyinaran_matahari</th>\n",
              "      <th>Kecepatan_angin_rata-rata</th>\n",
              "    </tr>\n",
              "    <tr>\n",
              "      <th>Tanggal</th>\n",
              "      <th></th>\n",
              "      <th></th>\n",
              "      <th></th>\n",
              "      <th></th>\n",
              "      <th></th>\n",
              "    </tr>\n",
              "  </thead>\n",
              "  <tbody>\n",
              "  </tbody>\n",
              "</table>\n",
              "</div>"
            ],
            "text/plain": [
              "Empty DataFrame\n",
              "Columns: [Temp_rata-rata, Kelembapan_rata-rata, Curah_hujan, Lamanya_penyinaran_matahari, Kecepatan_angin_rata-rata]\n",
              "Index: []"
            ]
          },
          "execution_count": 14,
          "metadata": {},
          "output_type": "execute_result"
        }
      ],
      "source": [
        "core_weather[pd.isnull(core_weather[\"Temp_rata-rata\"])]"
      ]
    },
    {
      "cell_type": "code",
      "execution_count": 15,
      "metadata": {
        "id": "thnnnAXgQzEM"
      },
      "outputs": [],
      "source": [
        "core_weather[\"Temp_rata-rata\"] = core_weather['Temp_rata-rata'].fillna(0)"
      ]
    },
    {
      "cell_type": "code",
      "execution_count": 16,
      "metadata": {
        "colab": {
          "base_uri": "https://localhost:8080/",
          "height": 81
        },
        "id": "W1MkgTZZRM-z",
        "outputId": "9e825f2f-9ed8-49f9-fa8a-939926b3f93c"
      },
      "outputs": [
        {
          "data": {
            "text/html": [
              "<div>\n",
              "<style scoped>\n",
              "    .dataframe tbody tr th:only-of-type {\n",
              "        vertical-align: middle;\n",
              "    }\n",
              "\n",
              "    .dataframe tbody tr th {\n",
              "        vertical-align: top;\n",
              "    }\n",
              "\n",
              "    .dataframe thead th {\n",
              "        text-align: right;\n",
              "    }\n",
              "</style>\n",
              "<table border=\"1\" class=\"dataframe\">\n",
              "  <thead>\n",
              "    <tr style=\"text-align: right;\">\n",
              "      <th></th>\n",
              "      <th>Temp_rata-rata</th>\n",
              "      <th>Kelembapan_rata-rata</th>\n",
              "      <th>Curah_hujan</th>\n",
              "      <th>Lamanya_penyinaran_matahari</th>\n",
              "      <th>Kecepatan_angin_rata-rata</th>\n",
              "    </tr>\n",
              "    <tr>\n",
              "      <th>Tanggal</th>\n",
              "      <th></th>\n",
              "      <th></th>\n",
              "      <th></th>\n",
              "      <th></th>\n",
              "      <th></th>\n",
              "    </tr>\n",
              "  </thead>\n",
              "  <tbody>\n",
              "  </tbody>\n",
              "</table>\n",
              "</div>"
            ],
            "text/plain": [
              "Empty DataFrame\n",
              "Columns: [Temp_rata-rata, Kelembapan_rata-rata, Curah_hujan, Lamanya_penyinaran_matahari, Kecepatan_angin_rata-rata]\n",
              "Index: []"
            ]
          },
          "execution_count": 16,
          "metadata": {},
          "output_type": "execute_result"
        }
      ],
      "source": [
        "core_weather[pd.isnull(core_weather[\"Temp_rata-rata\"])]"
      ]
    },
    {
      "cell_type": "code",
      "execution_count": 17,
      "metadata": {
        "colab": {
          "base_uri": "https://localhost:8080/",
          "height": 455
        },
        "id": "1oMEXi88_Ieo",
        "outputId": "afac6b50-2655-4ac8-8fd3-fe5cd7f78914"
      },
      "outputs": [
        {
          "data": {
            "text/html": [
              "<div>\n",
              "<style scoped>\n",
              "    .dataframe tbody tr th:only-of-type {\n",
              "        vertical-align: middle;\n",
              "    }\n",
              "\n",
              "    .dataframe tbody tr th {\n",
              "        vertical-align: top;\n",
              "    }\n",
              "\n",
              "    .dataframe thead th {\n",
              "        text-align: right;\n",
              "    }\n",
              "</style>\n",
              "<table border=\"1\" class=\"dataframe\">\n",
              "  <thead>\n",
              "    <tr style=\"text-align: right;\">\n",
              "      <th></th>\n",
              "      <th>Temp_rata-rata</th>\n",
              "      <th>Kelembapan_rata-rata</th>\n",
              "      <th>Curah_hujan</th>\n",
              "      <th>Lamanya_penyinaran_matahari</th>\n",
              "      <th>Kecepatan_angin_rata-rata</th>\n",
              "    </tr>\n",
              "    <tr>\n",
              "      <th>Tanggal</th>\n",
              "      <th></th>\n",
              "      <th></th>\n",
              "      <th></th>\n",
              "      <th></th>\n",
              "      <th></th>\n",
              "    </tr>\n",
              "  </thead>\n",
              "  <tbody>\n",
              "  </tbody>\n",
              "</table>\n",
              "</div>"
            ],
            "text/plain": [
              "Empty DataFrame\n",
              "Columns: [Temp_rata-rata, Kelembapan_rata-rata, Curah_hujan, Lamanya_penyinaran_matahari, Kecepatan_angin_rata-rata]\n",
              "Index: []"
            ]
          },
          "execution_count": 17,
          "metadata": {},
          "output_type": "execute_result"
        }
      ],
      "source": [
        "core_weather[pd.isnull(core_weather[\"Kelembapan_rata-rata\"])]"
      ]
    },
    {
      "cell_type": "code",
      "execution_count": 18,
      "metadata": {
        "id": "sOupVB_NRl-s"
      },
      "outputs": [],
      "source": [
        "core_weather[\"Kelembapan_rata-rata\"] = core_weather['Kelembapan_rata-rata'].fillna(0)"
      ]
    },
    {
      "cell_type": "code",
      "execution_count": 19,
      "metadata": {
        "colab": {
          "base_uri": "https://localhost:8080/",
          "height": 81
        },
        "id": "NsnG_2EcRs_0",
        "outputId": "1e519cff-556a-482e-f1ca-50248c581826"
      },
      "outputs": [
        {
          "data": {
            "text/html": [
              "<div>\n",
              "<style scoped>\n",
              "    .dataframe tbody tr th:only-of-type {\n",
              "        vertical-align: middle;\n",
              "    }\n",
              "\n",
              "    .dataframe tbody tr th {\n",
              "        vertical-align: top;\n",
              "    }\n",
              "\n",
              "    .dataframe thead th {\n",
              "        text-align: right;\n",
              "    }\n",
              "</style>\n",
              "<table border=\"1\" class=\"dataframe\">\n",
              "  <thead>\n",
              "    <tr style=\"text-align: right;\">\n",
              "      <th></th>\n",
              "      <th>Temp_rata-rata</th>\n",
              "      <th>Kelembapan_rata-rata</th>\n",
              "      <th>Curah_hujan</th>\n",
              "      <th>Lamanya_penyinaran_matahari</th>\n",
              "      <th>Kecepatan_angin_rata-rata</th>\n",
              "    </tr>\n",
              "    <tr>\n",
              "      <th>Tanggal</th>\n",
              "      <th></th>\n",
              "      <th></th>\n",
              "      <th></th>\n",
              "      <th></th>\n",
              "      <th></th>\n",
              "    </tr>\n",
              "  </thead>\n",
              "  <tbody>\n",
              "  </tbody>\n",
              "</table>\n",
              "</div>"
            ],
            "text/plain": [
              "Empty DataFrame\n",
              "Columns: [Temp_rata-rata, Kelembapan_rata-rata, Curah_hujan, Lamanya_penyinaran_matahari, Kecepatan_angin_rata-rata]\n",
              "Index: []"
            ]
          },
          "execution_count": 19,
          "metadata": {},
          "output_type": "execute_result"
        }
      ],
      "source": [
        "core_weather[pd.isnull(core_weather[\"Kelembapan_rata-rata\"])]"
      ]
    },
    {
      "cell_type": "code",
      "execution_count": 20,
      "metadata": {
        "colab": {
          "base_uri": "https://localhost:8080/",
          "height": 455
        },
        "id": "ZdFSd7_T_PWH",
        "outputId": "ab82a373-f800-422c-8860-fa48cbecef62"
      },
      "outputs": [
        {
          "data": {
            "text/html": [
              "<div>\n",
              "<style scoped>\n",
              "    .dataframe tbody tr th:only-of-type {\n",
              "        vertical-align: middle;\n",
              "    }\n",
              "\n",
              "    .dataframe tbody tr th {\n",
              "        vertical-align: top;\n",
              "    }\n",
              "\n",
              "    .dataframe thead th {\n",
              "        text-align: right;\n",
              "    }\n",
              "</style>\n",
              "<table border=\"1\" class=\"dataframe\">\n",
              "  <thead>\n",
              "    <tr style=\"text-align: right;\">\n",
              "      <th></th>\n",
              "      <th>Temp_rata-rata</th>\n",
              "      <th>Kelembapan_rata-rata</th>\n",
              "      <th>Curah_hujan</th>\n",
              "      <th>Lamanya_penyinaran_matahari</th>\n",
              "      <th>Kecepatan_angin_rata-rata</th>\n",
              "    </tr>\n",
              "    <tr>\n",
              "      <th>Tanggal</th>\n",
              "      <th></th>\n",
              "      <th></th>\n",
              "      <th></th>\n",
              "      <th></th>\n",
              "      <th></th>\n",
              "    </tr>\n",
              "  </thead>\n",
              "  <tbody>\n",
              "    <tr>\n",
              "      <th>31-03-2023</th>\n",
              "      <td>27.4</td>\n",
              "      <td>81</td>\n",
              "      <td>NaN</td>\n",
              "      <td>2.0</td>\n",
              "      <td>3</td>\n",
              "    </tr>\n",
              "  </tbody>\n",
              "</table>\n",
              "</div>"
            ],
            "text/plain": [
              "            Temp_rata-rata  Kelembapan_rata-rata  Curah_hujan  \\\n",
              "Tanggal                                                         \n",
              "31-03-2023            27.4                    81          NaN   \n",
              "\n",
              "            Lamanya_penyinaran_matahari  Kecepatan_angin_rata-rata  \n",
              "Tanggal                                                             \n",
              "31-03-2023                          2.0                          3  "
            ]
          },
          "execution_count": 20,
          "metadata": {},
          "output_type": "execute_result"
        }
      ],
      "source": [
        "core_weather[pd.isnull(core_weather[\"Curah_hujan\"])]"
      ]
    },
    {
      "cell_type": "code",
      "execution_count": 21,
      "metadata": {
        "id": "PbMgSu3TSMP1"
      },
      "outputs": [],
      "source": [
        "core_weather[\"Curah_hujan\"] = core_weather['Curah_hujan'].fillna(0)"
      ]
    },
    {
      "cell_type": "code",
      "execution_count": 22,
      "metadata": {
        "colab": {
          "base_uri": "https://localhost:8080/",
          "height": 81
        },
        "id": "FIbCHzZoSg2E",
        "outputId": "426c4418-3cd2-4b8b-bea1-24b527f946a6"
      },
      "outputs": [
        {
          "data": {
            "text/html": [
              "<div>\n",
              "<style scoped>\n",
              "    .dataframe tbody tr th:only-of-type {\n",
              "        vertical-align: middle;\n",
              "    }\n",
              "\n",
              "    .dataframe tbody tr th {\n",
              "        vertical-align: top;\n",
              "    }\n",
              "\n",
              "    .dataframe thead th {\n",
              "        text-align: right;\n",
              "    }\n",
              "</style>\n",
              "<table border=\"1\" class=\"dataframe\">\n",
              "  <thead>\n",
              "    <tr style=\"text-align: right;\">\n",
              "      <th></th>\n",
              "      <th>Temp_rata-rata</th>\n",
              "      <th>Kelembapan_rata-rata</th>\n",
              "      <th>Curah_hujan</th>\n",
              "      <th>Lamanya_penyinaran_matahari</th>\n",
              "      <th>Kecepatan_angin_rata-rata</th>\n",
              "    </tr>\n",
              "    <tr>\n",
              "      <th>Tanggal</th>\n",
              "      <th></th>\n",
              "      <th></th>\n",
              "      <th></th>\n",
              "      <th></th>\n",
              "      <th></th>\n",
              "    </tr>\n",
              "  </thead>\n",
              "  <tbody>\n",
              "  </tbody>\n",
              "</table>\n",
              "</div>"
            ],
            "text/plain": [
              "Empty DataFrame\n",
              "Columns: [Temp_rata-rata, Kelembapan_rata-rata, Curah_hujan, Lamanya_penyinaran_matahari, Kecepatan_angin_rata-rata]\n",
              "Index: []"
            ]
          },
          "execution_count": 22,
          "metadata": {},
          "output_type": "execute_result"
        }
      ],
      "source": [
        "core_weather[pd.isnull(core_weather[\"Curah_hujan\"])]"
      ]
    },
    {
      "cell_type": "code",
      "execution_count": 23,
      "metadata": {
        "colab": {
          "base_uri": "https://localhost:8080/",
          "height": 455
        },
        "id": "-63qJ_gy_WeF",
        "outputId": "c13acc6c-a0fb-4b66-c174-24d89a87fe3e"
      },
      "outputs": [
        {
          "data": {
            "text/html": [
              "<div>\n",
              "<style scoped>\n",
              "    .dataframe tbody tr th:only-of-type {\n",
              "        vertical-align: middle;\n",
              "    }\n",
              "\n",
              "    .dataframe tbody tr th {\n",
              "        vertical-align: top;\n",
              "    }\n",
              "\n",
              "    .dataframe thead th {\n",
              "        text-align: right;\n",
              "    }\n",
              "</style>\n",
              "<table border=\"1\" class=\"dataframe\">\n",
              "  <thead>\n",
              "    <tr style=\"text-align: right;\">\n",
              "      <th></th>\n",
              "      <th>Temp_rata-rata</th>\n",
              "      <th>Kelembapan_rata-rata</th>\n",
              "      <th>Curah_hujan</th>\n",
              "      <th>Lamanya_penyinaran_matahari</th>\n",
              "      <th>Kecepatan_angin_rata-rata</th>\n",
              "    </tr>\n",
              "    <tr>\n",
              "      <th>Tanggal</th>\n",
              "      <th></th>\n",
              "      <th></th>\n",
              "      <th></th>\n",
              "      <th></th>\n",
              "      <th></th>\n",
              "    </tr>\n",
              "  </thead>\n",
              "  <tbody>\n",
              "    <tr>\n",
              "      <th>17-06-2023</th>\n",
              "      <td>24.2</td>\n",
              "      <td>97</td>\n",
              "      <td>7.4</td>\n",
              "      <td>NaN</td>\n",
              "      <td>1</td>\n",
              "    </tr>\n",
              "    <tr>\n",
              "      <th>1/9/2023</th>\n",
              "      <td>26.7</td>\n",
              "      <td>74</td>\n",
              "      <td>0.0</td>\n",
              "      <td>NaN</td>\n",
              "      <td>2</td>\n",
              "    </tr>\n",
              "  </tbody>\n",
              "</table>\n",
              "</div>"
            ],
            "text/plain": [
              "            Temp_rata-rata  Kelembapan_rata-rata  Curah_hujan  \\\n",
              "Tanggal                                                         \n",
              "17-06-2023            24.2                    97          7.4   \n",
              "1/9/2023              26.7                    74          0.0   \n",
              "\n",
              "            Lamanya_penyinaran_matahari  Kecepatan_angin_rata-rata  \n",
              "Tanggal                                                             \n",
              "17-06-2023                          NaN                          1  \n",
              "1/9/2023                            NaN                          2  "
            ]
          },
          "execution_count": 23,
          "metadata": {},
          "output_type": "execute_result"
        }
      ],
      "source": [
        "core_weather[pd.isnull(core_weather[\"Lamanya_penyinaran_matahari\"])]"
      ]
    },
    {
      "cell_type": "code",
      "execution_count": 24,
      "metadata": {
        "id": "WlLG0abjS0mE"
      },
      "outputs": [],
      "source": [
        "core_weather[\"Lamanya_penyinaran_matahari\"] = core_weather['Lamanya_penyinaran_matahari'].fillna(0)"
      ]
    },
    {
      "cell_type": "code",
      "execution_count": 25,
      "metadata": {
        "colab": {
          "base_uri": "https://localhost:8080/",
          "height": 81
        },
        "id": "DjfZHBPJS6BF",
        "outputId": "e52bcdfb-5ac7-44e2-fdc5-43a0f20e4da5"
      },
      "outputs": [
        {
          "data": {
            "text/html": [
              "<div>\n",
              "<style scoped>\n",
              "    .dataframe tbody tr th:only-of-type {\n",
              "        vertical-align: middle;\n",
              "    }\n",
              "\n",
              "    .dataframe tbody tr th {\n",
              "        vertical-align: top;\n",
              "    }\n",
              "\n",
              "    .dataframe thead th {\n",
              "        text-align: right;\n",
              "    }\n",
              "</style>\n",
              "<table border=\"1\" class=\"dataframe\">\n",
              "  <thead>\n",
              "    <tr style=\"text-align: right;\">\n",
              "      <th></th>\n",
              "      <th>Temp_rata-rata</th>\n",
              "      <th>Kelembapan_rata-rata</th>\n",
              "      <th>Curah_hujan</th>\n",
              "      <th>Lamanya_penyinaran_matahari</th>\n",
              "      <th>Kecepatan_angin_rata-rata</th>\n",
              "    </tr>\n",
              "    <tr>\n",
              "      <th>Tanggal</th>\n",
              "      <th></th>\n",
              "      <th></th>\n",
              "      <th></th>\n",
              "      <th></th>\n",
              "      <th></th>\n",
              "    </tr>\n",
              "  </thead>\n",
              "  <tbody>\n",
              "  </tbody>\n",
              "</table>\n",
              "</div>"
            ],
            "text/plain": [
              "Empty DataFrame\n",
              "Columns: [Temp_rata-rata, Kelembapan_rata-rata, Curah_hujan, Lamanya_penyinaran_matahari, Kecepatan_angin_rata-rata]\n",
              "Index: []"
            ]
          },
          "execution_count": 25,
          "metadata": {},
          "output_type": "execute_result"
        }
      ],
      "source": [
        "core_weather[pd.isnull(core_weather[\"Lamanya_penyinaran_matahari\"])]"
      ]
    },
    {
      "cell_type": "code",
      "execution_count": 26,
      "metadata": {
        "colab": {
          "base_uri": "https://localhost:8080/",
          "height": 687
        },
        "id": "5DeqzWBLTPsb",
        "outputId": "b3cf9d95-cbb1-498e-9d0e-515e212e29af"
      },
      "outputs": [
        {
          "data": {
            "text/html": [
              "<div>\n",
              "<style scoped>\n",
              "    .dataframe tbody tr th:only-of-type {\n",
              "        vertical-align: middle;\n",
              "    }\n",
              "\n",
              "    .dataframe tbody tr th {\n",
              "        vertical-align: top;\n",
              "    }\n",
              "\n",
              "    .dataframe thead th {\n",
              "        text-align: right;\n",
              "    }\n",
              "</style>\n",
              "<table border=\"1\" class=\"dataframe\">\n",
              "  <thead>\n",
              "    <tr style=\"text-align: right;\">\n",
              "      <th></th>\n",
              "      <th>Temp_rata-rata</th>\n",
              "      <th>Kelembapan_rata-rata</th>\n",
              "      <th>Curah_hujan</th>\n",
              "      <th>Lamanya_penyinaran_matahari</th>\n",
              "      <th>Kecepatan_angin_rata-rata</th>\n",
              "    </tr>\n",
              "    <tr>\n",
              "      <th>Tanggal</th>\n",
              "      <th></th>\n",
              "      <th></th>\n",
              "      <th></th>\n",
              "      <th></th>\n",
              "      <th></th>\n",
              "    </tr>\n",
              "  </thead>\n",
              "  <tbody>\n",
              "  </tbody>\n",
              "</table>\n",
              "</div>"
            ],
            "text/plain": [
              "Empty DataFrame\n",
              "Columns: [Temp_rata-rata, Kelembapan_rata-rata, Curah_hujan, Lamanya_penyinaran_matahari, Kecepatan_angin_rata-rata]\n",
              "Index: []"
            ]
          },
          "execution_count": 26,
          "metadata": {},
          "output_type": "execute_result"
        }
      ],
      "source": [
        "core_weather[pd.isnull(core_weather[\"Kecepatan_angin_rata-rata\"])]"
      ]
    },
    {
      "cell_type": "code",
      "execution_count": 27,
      "metadata": {
        "id": "cgehzpULTA_V"
      },
      "outputs": [],
      "source": [
        "core_weather[\"Kecepatan_angin_rata-rata\"] = core_weather['Kecepatan_angin_rata-rata'].fillna(0)"
      ]
    },
    {
      "cell_type": "code",
      "execution_count": 28,
      "metadata": {
        "colab": {
          "base_uri": "https://localhost:8080/",
          "height": 81
        },
        "id": "vpeGMnPiTqwO",
        "outputId": "399b0249-34be-4c98-8ce0-21c798fe9a8f"
      },
      "outputs": [
        {
          "data": {
            "text/html": [
              "<div>\n",
              "<style scoped>\n",
              "    .dataframe tbody tr th:only-of-type {\n",
              "        vertical-align: middle;\n",
              "    }\n",
              "\n",
              "    .dataframe tbody tr th {\n",
              "        vertical-align: top;\n",
              "    }\n",
              "\n",
              "    .dataframe thead th {\n",
              "        text-align: right;\n",
              "    }\n",
              "</style>\n",
              "<table border=\"1\" class=\"dataframe\">\n",
              "  <thead>\n",
              "    <tr style=\"text-align: right;\">\n",
              "      <th></th>\n",
              "      <th>Temp_rata-rata</th>\n",
              "      <th>Kelembapan_rata-rata</th>\n",
              "      <th>Curah_hujan</th>\n",
              "      <th>Lamanya_penyinaran_matahari</th>\n",
              "      <th>Kecepatan_angin_rata-rata</th>\n",
              "    </tr>\n",
              "    <tr>\n",
              "      <th>Tanggal</th>\n",
              "      <th></th>\n",
              "      <th></th>\n",
              "      <th></th>\n",
              "      <th></th>\n",
              "      <th></th>\n",
              "    </tr>\n",
              "  </thead>\n",
              "  <tbody>\n",
              "  </tbody>\n",
              "</table>\n",
              "</div>"
            ],
            "text/plain": [
              "Empty DataFrame\n",
              "Columns: [Temp_rata-rata, Kelembapan_rata-rata, Curah_hujan, Lamanya_penyinaran_matahari, Kecepatan_angin_rata-rata]\n",
              "Index: []"
            ]
          },
          "execution_count": 28,
          "metadata": {},
          "output_type": "execute_result"
        }
      ],
      "source": [
        "core_weather[pd.isnull(core_weather[\"Kecepatan_angin_rata-rata\"])]"
      ]
    },
    {
      "cell_type": "code",
      "execution_count": 29,
      "metadata": {
        "colab": {
          "base_uri": "https://localhost:8080/",
          "height": 687
        },
        "id": "-SA6i8CA_eRr",
        "outputId": "43e80f15-a9b6-4587-91a4-3e34fea256cb"
      },
      "outputs": [
        {
          "data": {
            "text/html": [
              "<div>\n",
              "<style scoped>\n",
              "    .dataframe tbody tr th:only-of-type {\n",
              "        vertical-align: middle;\n",
              "    }\n",
              "\n",
              "    .dataframe tbody tr th {\n",
              "        vertical-align: top;\n",
              "    }\n",
              "\n",
              "    .dataframe thead th {\n",
              "        text-align: right;\n",
              "    }\n",
              "</style>\n",
              "<table border=\"1\" class=\"dataframe\">\n",
              "  <thead>\n",
              "    <tr style=\"text-align: right;\">\n",
              "      <th></th>\n",
              "      <th>Temp_rata-rata</th>\n",
              "      <th>Kelembapan_rata-rata</th>\n",
              "      <th>Curah_hujan</th>\n",
              "      <th>Lamanya_penyinaran_matahari</th>\n",
              "      <th>Kecepatan_angin_rata-rata</th>\n",
              "    </tr>\n",
              "    <tr>\n",
              "      <th>Tanggal</th>\n",
              "      <th></th>\n",
              "      <th></th>\n",
              "      <th></th>\n",
              "      <th></th>\n",
              "      <th></th>\n",
              "    </tr>\n",
              "  </thead>\n",
              "  <tbody>\n",
              "    <tr>\n",
              "      <th>1/1/2023</th>\n",
              "      <td>26.4</td>\n",
              "      <td>90</td>\n",
              "      <td>55.1</td>\n",
              "      <td>0.0</td>\n",
              "      <td>2</td>\n",
              "    </tr>\n",
              "    <tr>\n",
              "      <th>2/1/2023</th>\n",
              "      <td>26.4</td>\n",
              "      <td>90</td>\n",
              "      <td>55.1</td>\n",
              "      <td>0.0</td>\n",
              "      <td>2</td>\n",
              "    </tr>\n",
              "    <tr>\n",
              "      <th>3/1/2023</th>\n",
              "      <td>26.4</td>\n",
              "      <td>90</td>\n",
              "      <td>55.1</td>\n",
              "      <td>0.0</td>\n",
              "      <td>2</td>\n",
              "    </tr>\n",
              "    <tr>\n",
              "      <th>4/1/2023</th>\n",
              "      <td>26.0</td>\n",
              "      <td>92</td>\n",
              "      <td>4.1</td>\n",
              "      <td>0.0</td>\n",
              "      <td>2</td>\n",
              "    </tr>\n",
              "    <tr>\n",
              "      <th>5/1/2023</th>\n",
              "      <td>25.6</td>\n",
              "      <td>90</td>\n",
              "      <td>18.6</td>\n",
              "      <td>0.0</td>\n",
              "      <td>3</td>\n",
              "    </tr>\n",
              "    <tr>\n",
              "      <th>...</th>\n",
              "      <td>...</td>\n",
              "      <td>...</td>\n",
              "      <td>...</td>\n",
              "      <td>...</td>\n",
              "      <td>...</td>\n",
              "    </tr>\n",
              "    <tr>\n",
              "      <th>27-09-2023</th>\n",
              "      <td>29.4</td>\n",
              "      <td>65</td>\n",
              "      <td>1.5</td>\n",
              "      <td>9.2</td>\n",
              "      <td>3</td>\n",
              "    </tr>\n",
              "    <tr>\n",
              "      <th>28-09-2023</th>\n",
              "      <td>29.7</td>\n",
              "      <td>65</td>\n",
              "      <td>1.5</td>\n",
              "      <td>10.0</td>\n",
              "      <td>3</td>\n",
              "    </tr>\n",
              "    <tr>\n",
              "      <th>29-09-2023</th>\n",
              "      <td>30.3</td>\n",
              "      <td>66</td>\n",
              "      <td>1.5</td>\n",
              "      <td>9.9</td>\n",
              "      <td>3</td>\n",
              "    </tr>\n",
              "    <tr>\n",
              "      <th>30-09-2023</th>\n",
              "      <td>29.0</td>\n",
              "      <td>76</td>\n",
              "      <td>1.5</td>\n",
              "      <td>10.0</td>\n",
              "      <td>2</td>\n",
              "    </tr>\n",
              "    <tr>\n",
              "      <th>1/10/2023</th>\n",
              "      <td>29.1</td>\n",
              "      <td>76</td>\n",
              "      <td>1.5</td>\n",
              "      <td>9.6</td>\n",
              "      <td>2</td>\n",
              "    </tr>\n",
              "  </tbody>\n",
              "</table>\n",
              "<p>274 rows × 5 columns</p>\n",
              "</div>"
            ],
            "text/plain": [
              "            Temp_rata-rata  Kelembapan_rata-rata  Curah_hujan  \\\n",
              "Tanggal                                                         \n",
              "1/1/2023              26.4                    90         55.1   \n",
              "2/1/2023              26.4                    90         55.1   \n",
              "3/1/2023              26.4                    90         55.1   \n",
              "4/1/2023              26.0                    92          4.1   \n",
              "5/1/2023              25.6                    90         18.6   \n",
              "...                    ...                   ...          ...   \n",
              "27-09-2023            29.4                    65          1.5   \n",
              "28-09-2023            29.7                    65          1.5   \n",
              "29-09-2023            30.3                    66          1.5   \n",
              "30-09-2023            29.0                    76          1.5   \n",
              "1/10/2023             29.1                    76          1.5   \n",
              "\n",
              "            Lamanya_penyinaran_matahari  Kecepatan_angin_rata-rata  \n",
              "Tanggal                                                             \n",
              "1/1/2023                            0.0                          2  \n",
              "2/1/2023                            0.0                          2  \n",
              "3/1/2023                            0.0                          2  \n",
              "4/1/2023                            0.0                          2  \n",
              "5/1/2023                            0.0                          3  \n",
              "...                                 ...                        ...  \n",
              "27-09-2023                          9.2                          3  \n",
              "28-09-2023                         10.0                          3  \n",
              "29-09-2023                          9.9                          3  \n",
              "30-09-2023                         10.0                          2  \n",
              "1/10/2023                           9.6                          2  \n",
              "\n",
              "[274 rows x 5 columns]"
            ]
          },
          "execution_count": 29,
          "metadata": {},
          "output_type": "execute_result"
        }
      ],
      "source": [
        "core_weather"
      ]
    },
    {
      "cell_type": "code",
      "execution_count": 30,
      "metadata": {
        "id": "lB86b59UTvTF"
      },
      "outputs": [],
      "source": [
        "for x in core_weather.index:\n",
        "  if core_weather.loc[x, \"Temp_rata-rata\"] == 0.0:\n",
        "    core_weather.drop(x, inplace=True)\n"
      ]
    },
    {
      "cell_type": "code",
      "execution_count": 31,
      "metadata": {
        "id": "yr8zRSrpV6Qx"
      },
      "outputs": [],
      "source": [
        "for x in core_weather.index:\n",
        "  if core_weather.loc[x, \"Curah_hujan\"] == 0.0:\n",
        "    core_weather.drop(x, inplace=True)"
      ]
    },
    {
      "cell_type": "code",
      "execution_count": 32,
      "metadata": {
        "id": "cPbjAAQiWFSi"
      },
      "outputs": [],
      "source": [
        "for x in core_weather.index:\n",
        "  if core_weather.loc[x, \"Lamanya_penyinaran_matahari\"] == 0.0:\n",
        "    core_weather.drop(x, inplace=True)"
      ]
    },
    {
      "cell_type": "code",
      "execution_count": 33,
      "metadata": {
        "id": "1jdIHmSnWLIh"
      },
      "outputs": [],
      "source": [
        "for x in core_weather.index:\n",
        "  if core_weather.loc[x, \"Kecepatan_angin_rata-rata\"] == 0.0:\n",
        "    core_weather.drop(x, inplace=True)"
      ]
    },
    {
      "cell_type": "code",
      "execution_count": 34,
      "metadata": {
        "colab": {
          "base_uri": "https://localhost:8080/",
          "height": 802
        },
        "id": "b1UmBhaXVwZM",
        "outputId": "831e6b02-d7fa-4696-8a95-c8785665eb35"
      },
      "outputs": [
        {
          "data": {
            "text/html": [
              "<div>\n",
              "<style scoped>\n",
              "    .dataframe tbody tr th:only-of-type {\n",
              "        vertical-align: middle;\n",
              "    }\n",
              "\n",
              "    .dataframe tbody tr th {\n",
              "        vertical-align: top;\n",
              "    }\n",
              "\n",
              "    .dataframe thead th {\n",
              "        text-align: right;\n",
              "    }\n",
              "</style>\n",
              "<table border=\"1\" class=\"dataframe\">\n",
              "  <thead>\n",
              "    <tr style=\"text-align: right;\">\n",
              "      <th></th>\n",
              "      <th>Temp_rata-rata</th>\n",
              "      <th>Kelembapan_rata-rata</th>\n",
              "      <th>Curah_hujan</th>\n",
              "      <th>Lamanya_penyinaran_matahari</th>\n",
              "      <th>Kecepatan_angin_rata-rata</th>\n",
              "    </tr>\n",
              "    <tr>\n",
              "      <th>Tanggal</th>\n",
              "      <th></th>\n",
              "      <th></th>\n",
              "      <th></th>\n",
              "      <th></th>\n",
              "      <th></th>\n",
              "    </tr>\n",
              "  </thead>\n",
              "  <tbody>\n",
              "    <tr>\n",
              "      <th>7/1/2023</th>\n",
              "      <td>25.6</td>\n",
              "      <td>90</td>\n",
              "      <td>18.6</td>\n",
              "      <td>6.0</td>\n",
              "      <td>3</td>\n",
              "    </tr>\n",
              "    <tr>\n",
              "      <th>8/1/2023</th>\n",
              "      <td>26.2</td>\n",
              "      <td>87</td>\n",
              "      <td>18.6</td>\n",
              "      <td>6.0</td>\n",
              "      <td>3</td>\n",
              "    </tr>\n",
              "    <tr>\n",
              "      <th>9/1/2023</th>\n",
              "      <td>26.2</td>\n",
              "      <td>87</td>\n",
              "      <td>18.6</td>\n",
              "      <td>6.0</td>\n",
              "      <td>3</td>\n",
              "    </tr>\n",
              "    <tr>\n",
              "      <th>10/1/2023</th>\n",
              "      <td>26.2</td>\n",
              "      <td>87</td>\n",
              "      <td>18.6</td>\n",
              "      <td>6.0</td>\n",
              "      <td>3</td>\n",
              "    </tr>\n",
              "    <tr>\n",
              "      <th>11/1/2023</th>\n",
              "      <td>27.0</td>\n",
              "      <td>78</td>\n",
              "      <td>18.6</td>\n",
              "      <td>6.0</td>\n",
              "      <td>2</td>\n",
              "    </tr>\n",
              "    <tr>\n",
              "      <th>...</th>\n",
              "      <td>...</td>\n",
              "      <td>...</td>\n",
              "      <td>...</td>\n",
              "      <td>...</td>\n",
              "      <td>...</td>\n",
              "    </tr>\n",
              "    <tr>\n",
              "      <th>27-09-2023</th>\n",
              "      <td>29.4</td>\n",
              "      <td>65</td>\n",
              "      <td>1.5</td>\n",
              "      <td>9.2</td>\n",
              "      <td>3</td>\n",
              "    </tr>\n",
              "    <tr>\n",
              "      <th>28-09-2023</th>\n",
              "      <td>29.7</td>\n",
              "      <td>65</td>\n",
              "      <td>1.5</td>\n",
              "      <td>10.0</td>\n",
              "      <td>3</td>\n",
              "    </tr>\n",
              "    <tr>\n",
              "      <th>29-09-2023</th>\n",
              "      <td>30.3</td>\n",
              "      <td>66</td>\n",
              "      <td>1.5</td>\n",
              "      <td>9.9</td>\n",
              "      <td>3</td>\n",
              "    </tr>\n",
              "    <tr>\n",
              "      <th>30-09-2023</th>\n",
              "      <td>29.0</td>\n",
              "      <td>76</td>\n",
              "      <td>1.5</td>\n",
              "      <td>10.0</td>\n",
              "      <td>2</td>\n",
              "    </tr>\n",
              "    <tr>\n",
              "      <th>1/10/2023</th>\n",
              "      <td>29.1</td>\n",
              "      <td>76</td>\n",
              "      <td>1.5</td>\n",
              "      <td>9.6</td>\n",
              "      <td>2</td>\n",
              "    </tr>\n",
              "  </tbody>\n",
              "</table>\n",
              "<p>161 rows × 5 columns</p>\n",
              "</div>"
            ],
            "text/plain": [
              "            Temp_rata-rata  Kelembapan_rata-rata  Curah_hujan  \\\n",
              "Tanggal                                                         \n",
              "7/1/2023              25.6                    90         18.6   \n",
              "8/1/2023              26.2                    87         18.6   \n",
              "9/1/2023              26.2                    87         18.6   \n",
              "10/1/2023             26.2                    87         18.6   \n",
              "11/1/2023             27.0                    78         18.6   \n",
              "...                    ...                   ...          ...   \n",
              "27-09-2023            29.4                    65          1.5   \n",
              "28-09-2023            29.7                    65          1.5   \n",
              "29-09-2023            30.3                    66          1.5   \n",
              "30-09-2023            29.0                    76          1.5   \n",
              "1/10/2023             29.1                    76          1.5   \n",
              "\n",
              "            Lamanya_penyinaran_matahari  Kecepatan_angin_rata-rata  \n",
              "Tanggal                                                             \n",
              "7/1/2023                            6.0                          3  \n",
              "8/1/2023                            6.0                          3  \n",
              "9/1/2023                            6.0                          3  \n",
              "10/1/2023                           6.0                          3  \n",
              "11/1/2023                           6.0                          2  \n",
              "...                                 ...                        ...  \n",
              "27-09-2023                          9.2                          3  \n",
              "28-09-2023                         10.0                          3  \n",
              "29-09-2023                          9.9                          3  \n",
              "30-09-2023                         10.0                          2  \n",
              "1/10/2023                           9.6                          2  \n",
              "\n",
              "[161 rows x 5 columns]"
            ]
          },
          "execution_count": 34,
          "metadata": {},
          "output_type": "execute_result"
        }
      ],
      "source": [
        "core_weather"
      ]
    },
    {
      "cell_type": "code",
      "execution_count": 35,
      "metadata": {
        "colab": {
          "base_uri": "https://localhost:8080/"
        },
        "id": "LGVu1qkOBuVo",
        "outputId": "dd5dccd2-5754-43bf-c46e-55c71d24db8e"
      },
      "outputs": [
        {
          "data": {
            "text/plain": [
              "Temp_rata-rata                 float64\n",
              "Kelembapan_rata-rata             int64\n",
              "Curah_hujan                    float64\n",
              "Lamanya_penyinaran_matahari    float64\n",
              "Kecepatan_angin_rata-rata        int64\n",
              "dtype: object"
            ]
          },
          "execution_count": 35,
          "metadata": {},
          "output_type": "execute_result"
        }
      ],
      "source": [
        "core_weather.dtypes"
      ]
    },
    {
      "cell_type": "code",
      "execution_count": 36,
      "metadata": {
        "colab": {
          "base_uri": "https://localhost:8080/"
        },
        "id": "V8q0rZVnB72v",
        "outputId": "e24edb51-d6d0-4a18-cd2d-10c7a51580df"
      },
      "outputs": [
        {
          "data": {
            "text/plain": [
              "Index(['7/1/2023', '8/1/2023', '9/1/2023', '10/1/2023', '11/1/2023',\n",
              "       '12/1/2023', '13-01-2023', '14-01-2023', '15-01-2023', '16-01-2023',\n",
              "       ...\n",
              "       '22-09-2023', '23-09-2023', '24-09-2023', '25-09-2023', '26-09-2023',\n",
              "       '27-09-2023', '28-09-2023', '29-09-2023', '30-09-2023', '1/10/2023'],\n",
              "      dtype='object', name='Tanggal', length=161)"
            ]
          },
          "execution_count": 36,
          "metadata": {},
          "output_type": "execute_result"
        }
      ],
      "source": [
        "core_weather.index"
      ]
    },
    {
      "cell_type": "code",
      "execution_count": 37,
      "metadata": {
        "id": "AVgONPJDCBOK"
      },
      "outputs": [
        {
          "ename": "ValueError",
          "evalue": "time data \"13-01-2023\" doesn't match format \"%m/%d/%Y\", at position 6. You might want to try:\n    - passing `format` if your strings have a consistent format;\n    - passing `format='ISO8601'` if your strings are all ISO8601 but not necessarily in exactly the same format;\n    - passing `format='mixed'`, and the format will be inferred for each element individually. You might want to use `dayfirst` alongside this.",
          "output_type": "error",
          "traceback": [
            "\u001b[1;31m---------------------------------------------------------------------------\u001b[0m",
            "\u001b[1;31mValueError\u001b[0m                                Traceback (most recent call last)",
            "Cell \u001b[1;32mIn[37], line 1\u001b[0m\n\u001b[1;32m----> 1\u001b[0m core_weather\u001b[38;5;241m.\u001b[39mindex \u001b[38;5;241m=\u001b[39m \u001b[43mpd\u001b[49m\u001b[38;5;241;43m.\u001b[39;49m\u001b[43mto_datetime\u001b[49m\u001b[43m(\u001b[49m\u001b[43mcore_weather\u001b[49m\u001b[38;5;241;43m.\u001b[39;49m\u001b[43mindex\u001b[49m\u001b[43m)\u001b[49m\n",
            "File \u001b[1;32mc:\\Users\\Xilia\\AppData\\Local\\Programs\\Python\\Python310\\lib\\site-packages\\pandas\\core\\tools\\datetimes.py:1121\u001b[0m, in \u001b[0;36mto_datetime\u001b[1;34m(arg, errors, dayfirst, yearfirst, utc, format, exact, unit, infer_datetime_format, origin, cache)\u001b[0m\n\u001b[0;32m   1119\u001b[0m         result \u001b[38;5;241m=\u001b[39m _convert_and_box_cache(arg, cache_array, name\u001b[38;5;241m=\u001b[39marg\u001b[38;5;241m.\u001b[39mname)\n\u001b[0;32m   1120\u001b[0m     \u001b[38;5;28;01melse\u001b[39;00m:\n\u001b[1;32m-> 1121\u001b[0m         result \u001b[38;5;241m=\u001b[39m \u001b[43mconvert_listlike\u001b[49m\u001b[43m(\u001b[49m\u001b[43marg\u001b[49m\u001b[43m,\u001b[49m\u001b[43m \u001b[49m\u001b[38;5;28;43mformat\u001b[39;49m\u001b[43m,\u001b[49m\u001b[43m \u001b[49m\u001b[43mname\u001b[49m\u001b[38;5;241;43m=\u001b[39;49m\u001b[43marg\u001b[49m\u001b[38;5;241;43m.\u001b[39;49m\u001b[43mname\u001b[49m\u001b[43m)\u001b[49m\n\u001b[0;32m   1122\u001b[0m \u001b[38;5;28;01melif\u001b[39;00m is_list_like(arg):\n\u001b[0;32m   1123\u001b[0m     \u001b[38;5;28;01mtry\u001b[39;00m:\n\u001b[0;32m   1124\u001b[0m         \u001b[38;5;66;03m# error: Argument 1 to \"_maybe_cache\" has incompatible type\u001b[39;00m\n\u001b[0;32m   1125\u001b[0m         \u001b[38;5;66;03m# \"Union[float, str, datetime, List[Any], Tuple[Any, ...], ExtensionArray,\u001b[39;00m\n\u001b[0;32m   1126\u001b[0m         \u001b[38;5;66;03m# ndarray[Any, Any], Series]\"; expected \"Union[List[Any], Tuple[Any, ...],\u001b[39;00m\n\u001b[0;32m   1127\u001b[0m         \u001b[38;5;66;03m# Union[Union[ExtensionArray, ndarray[Any, Any]], Index, Series], Series]\"\u001b[39;00m\n",
            "File \u001b[1;32mc:\\Users\\Xilia\\AppData\\Local\\Programs\\Python\\Python310\\lib\\site-packages\\pandas\\core\\tools\\datetimes.py:488\u001b[0m, in \u001b[0;36m_convert_listlike_datetimes\u001b[1;34m(arg, format, name, utc, unit, errors, dayfirst, yearfirst, exact)\u001b[0m\n\u001b[0;32m    486\u001b[0m \u001b[38;5;66;03m# `format` could be inferred, or user didn't ask for mixed-format parsing.\u001b[39;00m\n\u001b[0;32m    487\u001b[0m \u001b[38;5;28;01mif\u001b[39;00m \u001b[38;5;28mformat\u001b[39m \u001b[38;5;129;01mis\u001b[39;00m \u001b[38;5;129;01mnot\u001b[39;00m \u001b[38;5;28;01mNone\u001b[39;00m \u001b[38;5;129;01mand\u001b[39;00m \u001b[38;5;28mformat\u001b[39m \u001b[38;5;241m!=\u001b[39m \u001b[38;5;124m\"\u001b[39m\u001b[38;5;124mmixed\u001b[39m\u001b[38;5;124m\"\u001b[39m:\n\u001b[1;32m--> 488\u001b[0m     \u001b[38;5;28;01mreturn\u001b[39;00m \u001b[43m_array_strptime_with_fallback\u001b[49m\u001b[43m(\u001b[49m\u001b[43marg\u001b[49m\u001b[43m,\u001b[49m\u001b[43m \u001b[49m\u001b[43mname\u001b[49m\u001b[43m,\u001b[49m\u001b[43m \u001b[49m\u001b[43mutc\u001b[49m\u001b[43m,\u001b[49m\u001b[43m \u001b[49m\u001b[38;5;28;43mformat\u001b[39;49m\u001b[43m,\u001b[49m\u001b[43m \u001b[49m\u001b[43mexact\u001b[49m\u001b[43m,\u001b[49m\u001b[43m \u001b[49m\u001b[43merrors\u001b[49m\u001b[43m)\u001b[49m\n\u001b[0;32m    490\u001b[0m result, tz_parsed \u001b[38;5;241m=\u001b[39m objects_to_datetime64ns(\n\u001b[0;32m    491\u001b[0m     arg,\n\u001b[0;32m    492\u001b[0m     dayfirst\u001b[38;5;241m=\u001b[39mdayfirst,\n\u001b[1;32m   (...)\u001b[0m\n\u001b[0;32m    496\u001b[0m     allow_object\u001b[38;5;241m=\u001b[39m\u001b[38;5;28;01mTrue\u001b[39;00m,\n\u001b[0;32m    497\u001b[0m )\n\u001b[0;32m    499\u001b[0m \u001b[38;5;28;01mif\u001b[39;00m tz_parsed \u001b[38;5;129;01mis\u001b[39;00m \u001b[38;5;129;01mnot\u001b[39;00m \u001b[38;5;28;01mNone\u001b[39;00m:\n\u001b[0;32m    500\u001b[0m     \u001b[38;5;66;03m# We can take a shortcut since the datetime64 numpy array\u001b[39;00m\n\u001b[0;32m    501\u001b[0m     \u001b[38;5;66;03m# is in UTC\u001b[39;00m\n",
            "File \u001b[1;32mc:\\Users\\Xilia\\AppData\\Local\\Programs\\Python\\Python310\\lib\\site-packages\\pandas\\core\\tools\\datetimes.py:519\u001b[0m, in \u001b[0;36m_array_strptime_with_fallback\u001b[1;34m(arg, name, utc, fmt, exact, errors)\u001b[0m\n\u001b[0;32m    508\u001b[0m \u001b[38;5;28;01mdef\u001b[39;00m \u001b[38;5;21m_array_strptime_with_fallback\u001b[39m(\n\u001b[0;32m    509\u001b[0m     arg,\n\u001b[0;32m    510\u001b[0m     name,\n\u001b[1;32m   (...)\u001b[0m\n\u001b[0;32m    514\u001b[0m     errors: \u001b[38;5;28mstr\u001b[39m,\n\u001b[0;32m    515\u001b[0m ) \u001b[38;5;241m-\u001b[39m\u001b[38;5;241m>\u001b[39m Index:\n\u001b[0;32m    516\u001b[0m \u001b[38;5;250m    \u001b[39m\u001b[38;5;124;03m\"\"\"\u001b[39;00m\n\u001b[0;32m    517\u001b[0m \u001b[38;5;124;03m    Call array_strptime, with fallback behavior depending on 'errors'.\u001b[39;00m\n\u001b[0;32m    518\u001b[0m \u001b[38;5;124;03m    \"\"\"\u001b[39;00m\n\u001b[1;32m--> 519\u001b[0m     result, timezones \u001b[38;5;241m=\u001b[39m \u001b[43marray_strptime\u001b[49m\u001b[43m(\u001b[49m\u001b[43marg\u001b[49m\u001b[43m,\u001b[49m\u001b[43m \u001b[49m\u001b[43mfmt\u001b[49m\u001b[43m,\u001b[49m\u001b[43m \u001b[49m\u001b[43mexact\u001b[49m\u001b[38;5;241;43m=\u001b[39;49m\u001b[43mexact\u001b[49m\u001b[43m,\u001b[49m\u001b[43m \u001b[49m\u001b[43merrors\u001b[49m\u001b[38;5;241;43m=\u001b[39;49m\u001b[43merrors\u001b[49m\u001b[43m,\u001b[49m\u001b[43m \u001b[49m\u001b[43mutc\u001b[49m\u001b[38;5;241;43m=\u001b[39;49m\u001b[43mutc\u001b[49m\u001b[43m)\u001b[49m\n\u001b[0;32m    520\u001b[0m     \u001b[38;5;28;01mif\u001b[39;00m \u001b[38;5;28many\u001b[39m(tz \u001b[38;5;129;01mis\u001b[39;00m \u001b[38;5;129;01mnot\u001b[39;00m \u001b[38;5;28;01mNone\u001b[39;00m \u001b[38;5;28;01mfor\u001b[39;00m tz \u001b[38;5;129;01min\u001b[39;00m timezones):\n\u001b[0;32m    521\u001b[0m         \u001b[38;5;28;01mreturn\u001b[39;00m _return_parsed_timezone_results(result, timezones, utc, name)\n",
            "File \u001b[1;32mstrptime.pyx:534\u001b[0m, in \u001b[0;36mpandas._libs.tslibs.strptime.array_strptime\u001b[1;34m()\u001b[0m\n",
            "File \u001b[1;32mstrptime.pyx:355\u001b[0m, in \u001b[0;36mpandas._libs.tslibs.strptime.array_strptime\u001b[1;34m()\u001b[0m\n",
            "\u001b[1;31mValueError\u001b[0m: time data \"13-01-2023\" doesn't match format \"%m/%d/%Y\", at position 6. You might want to try:\n    - passing `format` if your strings have a consistent format;\n    - passing `format='ISO8601'` if your strings are all ISO8601 but not necessarily in exactly the same format;\n    - passing `format='mixed'`, and the format will be inferred for each element individually. You might want to use `dayfirst` alongside this."
          ]
        }
      ],
      "source": [
        "core_weather.index = pd.to_datetime(core_weather.index)"
      ]
    },
    {
      "cell_type": "code",
      "execution_count": null,
      "metadata": {
        "colab": {
          "base_uri": "https://localhost:8080/"
        },
        "id": "LtAq6hvpCXuU",
        "outputId": "d0b5eaf5-50c2-4658-da77-c51d3b36fc00"
      },
      "outputs": [
        {
          "ename": "NameError",
          "evalue": "name 'core_weather' is not defined",
          "output_type": "error",
          "traceback": [
            "\u001b[1;31m---------------------------------------------------------------------------\u001b[0m",
            "\u001b[1;31mNameError\u001b[0m                                 Traceback (most recent call last)",
            "Cell \u001b[1;32mIn[1], line 1\u001b[0m\n\u001b[1;32m----> 1\u001b[0m \u001b[43mcore_weather\u001b[49m\u001b[38;5;241m.\u001b[39mindex\n",
            "\u001b[1;31mNameError\u001b[0m: name 'core_weather' is not defined"
          ]
        }
      ],
      "source": [
        "core_weather.index"
      ]
    },
    {
      "cell_type": "code",
      "execution_count": 38,
      "metadata": {
        "colab": {
          "base_uri": "https://localhost:8080/"
        },
        "id": "taf0d8pPCrj4",
        "outputId": "e0631b40-bcd5-432e-f2ed-ac06784ee274"
      },
      "outputs": [
        {
          "data": {
            "text/plain": [
              "Temp_rata-rata                  0\n",
              "Kelembapan_rata-rata            0\n",
              "Curah_hujan                    38\n",
              "Lamanya_penyinaran_matahari     0\n",
              "Kecepatan_angin_rata-rata       0\n",
              "dtype: int64"
            ]
          },
          "execution_count": 38,
          "metadata": {},
          "output_type": "execute_result"
        }
      ],
      "source": [
        "core_weather.apply(lambda x:(x==8888).sum())"
      ]
    },
    {
      "cell_type": "code",
      "execution_count": 39,
      "metadata": {
        "colab": {
          "base_uri": "https://localhost:8080/"
        },
        "id": "gs6BcciOFRjA",
        "outputId": "b36d3b1b-5c4c-437b-a81e-9321eff7fa83"
      },
      "outputs": [
        {
          "data": {
            "text/plain": [
              "Temp_rata-rata                 float64\n",
              "Kelembapan_rata-rata             int64\n",
              "Curah_hujan                    float64\n",
              "Lamanya_penyinaran_matahari    float64\n",
              "Kecepatan_angin_rata-rata        int64\n",
              "dtype: object"
            ]
          },
          "execution_count": 39,
          "metadata": {},
          "output_type": "execute_result"
        }
      ],
      "source": [
        "core_weather.dtypes"
      ]
    },
    {
      "cell_type": "code",
      "execution_count": null,
      "metadata": {
        "colab": {
          "base_uri": "https://localhost:8080/",
          "height": 802
        },
        "id": "nhYGTErtWWxx",
        "outputId": "b92f1232-6222-4104-a7f8-d53f5bc761b4"
      },
      "outputs": [
        {
          "data": {
            "text/html": [
              "<div>\n",
              "<style scoped>\n",
              "    .dataframe tbody tr th:only-of-type {\n",
              "        vertical-align: middle;\n",
              "    }\n",
              "\n",
              "    .dataframe tbody tr th {\n",
              "        vertical-align: top;\n",
              "    }\n",
              "\n",
              "    .dataframe thead th {\n",
              "        text-align: right;\n",
              "    }\n",
              "</style>\n",
              "<table border=\"1\" class=\"dataframe\">\n",
              "  <thead>\n",
              "    <tr style=\"text-align: right;\">\n",
              "      <th></th>\n",
              "      <th>Temp_rata-rata</th>\n",
              "      <th>Kelembapan_rata-rata</th>\n",
              "      <th>Curah_hujan</th>\n",
              "      <th>Lamanya_penyinaran_matahari</th>\n",
              "      <th>Kecepatan_angin_rata-rata</th>\n",
              "    </tr>\n",
              "    <tr>\n",
              "      <th>Tanggal</th>\n",
              "      <th></th>\n",
              "      <th></th>\n",
              "      <th></th>\n",
              "      <th></th>\n",
              "      <th></th>\n",
              "    </tr>\n",
              "  </thead>\n",
              "  <tbody>\n",
              "    <tr>\n",
              "      <th>7/1/2023</th>\n",
              "      <td>25.6</td>\n",
              "      <td>90</td>\n",
              "      <td>18.6</td>\n",
              "      <td>6.0</td>\n",
              "      <td>3</td>\n",
              "    </tr>\n",
              "    <tr>\n",
              "      <th>8/1/2023</th>\n",
              "      <td>26.2</td>\n",
              "      <td>87</td>\n",
              "      <td>18.6</td>\n",
              "      <td>6.0</td>\n",
              "      <td>3</td>\n",
              "    </tr>\n",
              "    <tr>\n",
              "      <th>9/1/2023</th>\n",
              "      <td>26.2</td>\n",
              "      <td>87</td>\n",
              "      <td>18.6</td>\n",
              "      <td>6.0</td>\n",
              "      <td>3</td>\n",
              "    </tr>\n",
              "    <tr>\n",
              "      <th>10/1/2023</th>\n",
              "      <td>26.2</td>\n",
              "      <td>87</td>\n",
              "      <td>18.6</td>\n",
              "      <td>6.0</td>\n",
              "      <td>3</td>\n",
              "    </tr>\n",
              "    <tr>\n",
              "      <th>11/1/2023</th>\n",
              "      <td>27.0</td>\n",
              "      <td>78</td>\n",
              "      <td>18.6</td>\n",
              "      <td>6.0</td>\n",
              "      <td>2</td>\n",
              "    </tr>\n",
              "    <tr>\n",
              "      <th>...</th>\n",
              "      <td>...</td>\n",
              "      <td>...</td>\n",
              "      <td>...</td>\n",
              "      <td>...</td>\n",
              "      <td>...</td>\n",
              "    </tr>\n",
              "    <tr>\n",
              "      <th>27-09-2023</th>\n",
              "      <td>29.4</td>\n",
              "      <td>65</td>\n",
              "      <td>1.5</td>\n",
              "      <td>9.2</td>\n",
              "      <td>3</td>\n",
              "    </tr>\n",
              "    <tr>\n",
              "      <th>28-09-2023</th>\n",
              "      <td>29.7</td>\n",
              "      <td>65</td>\n",
              "      <td>1.5</td>\n",
              "      <td>10.0</td>\n",
              "      <td>3</td>\n",
              "    </tr>\n",
              "    <tr>\n",
              "      <th>29-09-2023</th>\n",
              "      <td>30.3</td>\n",
              "      <td>66</td>\n",
              "      <td>1.5</td>\n",
              "      <td>9.9</td>\n",
              "      <td>3</td>\n",
              "    </tr>\n",
              "    <tr>\n",
              "      <th>30-09-2023</th>\n",
              "      <td>29.0</td>\n",
              "      <td>76</td>\n",
              "      <td>1.5</td>\n",
              "      <td>10.0</td>\n",
              "      <td>2</td>\n",
              "    </tr>\n",
              "    <tr>\n",
              "      <th>1/10/2023</th>\n",
              "      <td>29.1</td>\n",
              "      <td>76</td>\n",
              "      <td>1.5</td>\n",
              "      <td>9.6</td>\n",
              "      <td>2</td>\n",
              "    </tr>\n",
              "  </tbody>\n",
              "</table>\n",
              "<p>161 rows × 5 columns</p>\n",
              "</div>"
            ],
            "text/plain": [
              "            Temp_rata-rata  Kelembapan_rata-rata  Curah_hujan  \\\n",
              "Tanggal                                                         \n",
              "7/1/2023              25.6                    90         18.6   \n",
              "8/1/2023              26.2                    87         18.6   \n",
              "9/1/2023              26.2                    87         18.6   \n",
              "10/1/2023             26.2                    87         18.6   \n",
              "11/1/2023             27.0                    78         18.6   \n",
              "...                    ...                   ...          ...   \n",
              "27-09-2023            29.4                    65          1.5   \n",
              "28-09-2023            29.7                    65          1.5   \n",
              "29-09-2023            30.3                    66          1.5   \n",
              "30-09-2023            29.0                    76          1.5   \n",
              "1/10/2023             29.1                    76          1.5   \n",
              "\n",
              "            Lamanya_penyinaran_matahari  Kecepatan_angin_rata-rata  \n",
              "Tanggal                                                             \n",
              "7/1/2023                            6.0                          3  \n",
              "8/1/2023                            6.0                          3  \n",
              "9/1/2023                            6.0                          3  \n",
              "10/1/2023                           6.0                          3  \n",
              "11/1/2023                           6.0                          2  \n",
              "...                                 ...                        ...  \n",
              "27-09-2023                          9.2                          3  \n",
              "28-09-2023                         10.0                          3  \n",
              "29-09-2023                          9.9                          3  \n",
              "30-09-2023                         10.0                          2  \n",
              "1/10/2023                           9.6                          2  \n",
              "\n",
              "[161 rows x 5 columns]"
            ]
          },
          "execution_count": 38,
          "metadata": {},
          "output_type": "execute_result"
        }
      ],
      "source": [
        "core_weather"
      ]
    },
    {
      "cell_type": "code",
      "execution_count": 40,
      "metadata": {
        "id": "Q82OmzGRWjZZ"
      },
      "outputs": [],
      "source": [
        "for x in core_weather.index:\n",
        "  if core_weather.loc[x, \"Curah_hujan\"] == 8888.0:\n",
        "    core_weather.drop(x, inplace=True)"
      ]
    },
    {
      "cell_type": "code",
      "execution_count": 41,
      "metadata": {
        "colab": {
          "base_uri": "https://localhost:8080/",
          "height": 677
        },
        "id": "Y5NkrmH9W1K-",
        "outputId": "30fcb870-fd3a-4f2e-ef14-7aa472c11442"
      },
      "outputs": [
        {
          "data": {
            "text/html": [
              "<div>\n",
              "<style scoped>\n",
              "    .dataframe tbody tr th:only-of-type {\n",
              "        vertical-align: middle;\n",
              "    }\n",
              "\n",
              "    .dataframe tbody tr th {\n",
              "        vertical-align: top;\n",
              "    }\n",
              "\n",
              "    .dataframe thead th {\n",
              "        text-align: right;\n",
              "    }\n",
              "</style>\n",
              "<table border=\"1\" class=\"dataframe\">\n",
              "  <thead>\n",
              "    <tr style=\"text-align: right;\">\n",
              "      <th></th>\n",
              "      <th>Temp_rata-rata</th>\n",
              "      <th>Kelembapan_rata-rata</th>\n",
              "      <th>Curah_hujan</th>\n",
              "      <th>Lamanya_penyinaran_matahari</th>\n",
              "      <th>Kecepatan_angin_rata-rata</th>\n",
              "    </tr>\n",
              "    <tr>\n",
              "      <th>Tanggal</th>\n",
              "      <th></th>\n",
              "      <th></th>\n",
              "      <th></th>\n",
              "      <th></th>\n",
              "      <th></th>\n",
              "    </tr>\n",
              "  </thead>\n",
              "  <tbody>\n",
              "    <tr>\n",
              "      <th>7/1/2023</th>\n",
              "      <td>25.6</td>\n",
              "      <td>90</td>\n",
              "      <td>18.6</td>\n",
              "      <td>6.0</td>\n",
              "      <td>3</td>\n",
              "    </tr>\n",
              "    <tr>\n",
              "      <th>8/1/2023</th>\n",
              "      <td>26.2</td>\n",
              "      <td>87</td>\n",
              "      <td>18.6</td>\n",
              "      <td>6.0</td>\n",
              "      <td>3</td>\n",
              "    </tr>\n",
              "    <tr>\n",
              "      <th>9/1/2023</th>\n",
              "      <td>26.2</td>\n",
              "      <td>87</td>\n",
              "      <td>18.6</td>\n",
              "      <td>6.0</td>\n",
              "      <td>3</td>\n",
              "    </tr>\n",
              "    <tr>\n",
              "      <th>10/1/2023</th>\n",
              "      <td>26.2</td>\n",
              "      <td>87</td>\n",
              "      <td>18.6</td>\n",
              "      <td>6.0</td>\n",
              "      <td>3</td>\n",
              "    </tr>\n",
              "    <tr>\n",
              "      <th>11/1/2023</th>\n",
              "      <td>27.0</td>\n",
              "      <td>78</td>\n",
              "      <td>18.6</td>\n",
              "      <td>6.0</td>\n",
              "      <td>2</td>\n",
              "    </tr>\n",
              "    <tr>\n",
              "      <th>...</th>\n",
              "      <td>...</td>\n",
              "      <td>...</td>\n",
              "      <td>...</td>\n",
              "      <td>...</td>\n",
              "      <td>...</td>\n",
              "    </tr>\n",
              "    <tr>\n",
              "      <th>27-09-2023</th>\n",
              "      <td>29.4</td>\n",
              "      <td>65</td>\n",
              "      <td>1.5</td>\n",
              "      <td>9.2</td>\n",
              "      <td>3</td>\n",
              "    </tr>\n",
              "    <tr>\n",
              "      <th>28-09-2023</th>\n",
              "      <td>29.7</td>\n",
              "      <td>65</td>\n",
              "      <td>1.5</td>\n",
              "      <td>10.0</td>\n",
              "      <td>3</td>\n",
              "    </tr>\n",
              "    <tr>\n",
              "      <th>29-09-2023</th>\n",
              "      <td>30.3</td>\n",
              "      <td>66</td>\n",
              "      <td>1.5</td>\n",
              "      <td>9.9</td>\n",
              "      <td>3</td>\n",
              "    </tr>\n",
              "    <tr>\n",
              "      <th>30-09-2023</th>\n",
              "      <td>29.0</td>\n",
              "      <td>76</td>\n",
              "      <td>1.5</td>\n",
              "      <td>10.0</td>\n",
              "      <td>2</td>\n",
              "    </tr>\n",
              "    <tr>\n",
              "      <th>1/10/2023</th>\n",
              "      <td>29.1</td>\n",
              "      <td>76</td>\n",
              "      <td>1.5</td>\n",
              "      <td>9.6</td>\n",
              "      <td>2</td>\n",
              "    </tr>\n",
              "  </tbody>\n",
              "</table>\n",
              "<p>123 rows × 5 columns</p>\n",
              "</div>"
            ],
            "text/plain": [
              "            Temp_rata-rata  Kelembapan_rata-rata  Curah_hujan  \\\n",
              "Tanggal                                                         \n",
              "7/1/2023              25.6                    90         18.6   \n",
              "8/1/2023              26.2                    87         18.6   \n",
              "9/1/2023              26.2                    87         18.6   \n",
              "10/1/2023             26.2                    87         18.6   \n",
              "11/1/2023             27.0                    78         18.6   \n",
              "...                    ...                   ...          ...   \n",
              "27-09-2023            29.4                    65          1.5   \n",
              "28-09-2023            29.7                    65          1.5   \n",
              "29-09-2023            30.3                    66          1.5   \n",
              "30-09-2023            29.0                    76          1.5   \n",
              "1/10/2023             29.1                    76          1.5   \n",
              "\n",
              "            Lamanya_penyinaran_matahari  Kecepatan_angin_rata-rata  \n",
              "Tanggal                                                             \n",
              "7/1/2023                            6.0                          3  \n",
              "8/1/2023                            6.0                          3  \n",
              "9/1/2023                            6.0                          3  \n",
              "10/1/2023                           6.0                          3  \n",
              "11/1/2023                           6.0                          2  \n",
              "...                                 ...                        ...  \n",
              "27-09-2023                          9.2                          3  \n",
              "28-09-2023                         10.0                          3  \n",
              "29-09-2023                          9.9                          3  \n",
              "30-09-2023                         10.0                          2  \n",
              "1/10/2023                           9.6                          2  \n",
              "\n",
              "[123 rows x 5 columns]"
            ]
          },
          "execution_count": 41,
          "metadata": {},
          "output_type": "execute_result"
        }
      ],
      "source": [
        "core_weather"
      ]
    },
    {
      "cell_type": "code",
      "execution_count": 42,
      "metadata": {},
      "outputs": [],
      "source": [
        "core_weather.to_csv(\"Data_fixed.csv\")"
      ]
    }
  ],
  "metadata": {
    "colab": {
      "authorship_tag": "ABX9TyP7H+Hryx2rrNQSWHs3GSVD",
      "include_colab_link": true,
      "provenance": []
    },
    "kernelspec": {
      "display_name": "Python 3",
      "name": "python3"
    },
    "language_info": {
      "codemirror_mode": {
        "name": "ipython",
        "version": 3
      },
      "file_extension": ".py",
      "mimetype": "text/x-python",
      "name": "python",
      "nbconvert_exporter": "python",
      "pygments_lexer": "ipython3",
      "version": "3.10.11"
    }
  },
  "nbformat": 4,
  "nbformat_minor": 0
}
